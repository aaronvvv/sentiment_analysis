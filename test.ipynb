{
 "metadata": {
  "language_info": {
   "codemirror_mode": {
    "name": "ipython",
    "version": 3
   },
   "file_extension": ".py",
   "mimetype": "text/x-python",
   "name": "python",
   "nbconvert_exporter": "python",
   "pygments_lexer": "ipython3",
   "version": "3.7.6"
  },
  "orig_nbformat": 4,
  "kernelspec": {
   "name": "python3",
   "display_name": "Python 3.7.6 64-bit ('base': conda)"
  },
  "interpreter": {
   "hash": "420f5c5368ac787b3dbad608e5889d58a897bdb041915a65b9e0b62b23e63c39"
  }
 },
 "nbformat": 4,
 "nbformat_minor": 2,
 "cells": [
  {
   "cell_type": "code",
   "execution_count": 65,
   "metadata": {},
   "outputs": [],
   "source": [
    "from sklearn.model_selection import KFold, RepeatedKFold\n",
    "from utils import evaluate,load_datasets\n",
    "from paddlenlp.datasets import load_dataset,MapDataset\n",
    "import numpy as np"
   ]
  },
  {
   "cell_type": "code",
   "execution_count": 4,
   "metadata": {},
   "outputs": [],
   "source": [
    "train_data = \"COTE-BD\"\n",
    "data_path = \"data/\"+ train_data +\"/train.tsv\"\n",
    "#train_ds = load_datasets(datafiles=data_path)\n",
    "train_ds = load_dataset(\"cote\",\"dp\", data_files=\"data/COTE-BD/train.tsv\")\n"
   ]
  },
  {
   "cell_type": "code",
   "execution_count": 10,
   "metadata": {},
   "outputs": [
    {
     "output_type": "execute_result",
     "data": {
      "text/plain": [
       "8533"
      ]
     },
     "metadata": {},
     "execution_count": 10
    }
   ],
   "source": [
    "len(train_ds.data)"
   ]
  },
  {
   "cell_type": "code",
   "execution_count": 163,
   "metadata": {},
   "outputs": [
    {
     "output_type": "stream",
     "name": "stdout",
     "text": [
      "星巴克 2 ['星巴克', '星巴克', '店里']\n阿春粤菜 1 ['阿春粤菜', '阿春粤菜馆', '直达']\n拾味馆 2 ['拾味馆', '拾味馆', '山羊']\n骨之味 2 ['骨之味', '骨之味', '一次\\x01座位\\x01大厅']\n必胜客 2 ['必胜客', '必胜客', '礼拜']\n"
     ]
    }
   ],
   "source": [
    "nflod = 3\n",
    "from collections import defaultdict\n",
    "for r in range(res.head().shape[0]):\n",
    "    rows_pred = [d.iloc[r,1] for d in dp]\n",
    "    vote = defaultdict(int ,zip(rows_pred,[0]*len(rows_pred)))\n",
    "    pred = set(rows_pred[0])\n",
    "    best_cnt = 0\n",
    "    best = None \n",
    "    for p in rows_pred:\n",
    "        vote[p] += 1\n",
    "        if vote[p]>best_cnt:\n",
    "            best_cnt = vote[p]\n",
    "            best = p\n",
    "        pred &= set(p)\n",
    "    for p1 in rows_pred:\n",
    "        for p2 in rows_pred:\n",
    "            joint = \"\".join(set(p1)&set(p2))\n",
    "            if joint in p1 and joint in p2:\n",
    "                vote[joint] += 1\n",
    "    print(best,best_cnt, rows_pred)"
   ]
  },
  {
   "cell_type": "code",
   "execution_count": 171,
   "metadata": {},
   "outputs": [
    {
     "output_type": "stream",
     "name": "stdout",
     "text": [
      "星巴克 2 ['星巴克', '星巴克', '店里']\n阿春粤菜馆 2 ['阿春粤菜馆', '阿春粤菜馆', '直达']\n拾味馆 2 ['拾味馆', '拾味馆', '山羊']\n骨之味 2 ['骨之味', '骨之味', '一次\\x01座位\\x01大厅']\n必胜客 2 ['必胜客', '必胜客', '礼拜']\n"
     ]
    },
    {
     "output_type": "execute_result",
     "data": {
      "text/plain": [
       "       index prediction\n",
       "0          0        星巴克\n",
       "1          1      阿春粤菜馆\n",
       "2          2        拾味馆\n",
       "3          3        骨之味\n",
       "4          4        必胜客\n",
       "...      ...        ...\n",
       "10820  10820       湘见恨晚\n",
       "10821  10821     这里小城故事\n",
       "10822  10822       一茶一坐\n",
       "10823  10823        荣小馆\n",
       "10824  10824       爱斯芙德\n",
       "\n",
       "[10825 rows x 2 columns]"
      ],
      "text/html": "<div>\n<style scoped>\n    .dataframe tbody tr th:only-of-type {\n        vertical-align: middle;\n    }\n\n    .dataframe tbody tr th {\n        vertical-align: top;\n    }\n\n    .dataframe thead th {\n        text-align: right;\n    }\n</style>\n<table border=\"1\" class=\"dataframe\">\n  <thead>\n    <tr style=\"text-align: right;\">\n      <th></th>\n      <th>index</th>\n      <th>prediction</th>\n    </tr>\n  </thead>\n  <tbody>\n    <tr>\n      <th>0</th>\n      <td>0</td>\n      <td>星巴克</td>\n    </tr>\n    <tr>\n      <th>1</th>\n      <td>1</td>\n      <td>阿春粤菜馆</td>\n    </tr>\n    <tr>\n      <th>2</th>\n      <td>2</td>\n      <td>拾味馆</td>\n    </tr>\n    <tr>\n      <th>3</th>\n      <td>3</td>\n      <td>骨之味</td>\n    </tr>\n    <tr>\n      <th>4</th>\n      <td>4</td>\n      <td>必胜客</td>\n    </tr>\n    <tr>\n      <th>...</th>\n      <td>...</td>\n      <td>...</td>\n    </tr>\n    <tr>\n      <th>10820</th>\n      <td>10820</td>\n      <td>湘见恨晚</td>\n    </tr>\n    <tr>\n      <th>10821</th>\n      <td>10821</td>\n      <td>这里小城故事</td>\n    </tr>\n    <tr>\n      <th>10822</th>\n      <td>10822</td>\n      <td>一茶一坐</td>\n    </tr>\n    <tr>\n      <th>10823</th>\n      <td>10823</td>\n      <td>荣小馆</td>\n    </tr>\n    <tr>\n      <th>10824</th>\n      <td>10824</td>\n      <td>爱斯芙德</td>\n    </tr>\n  </tbody>\n</table>\n<p>10825 rows × 2 columns</p>\n</div>"
     },
     "metadata": {},
     "execution_count": 171
    }
   ],
   "source": [
    "res_path = \"results/COTE_BD0.tsv\"\n",
    "merge_res(dps,res_path)"
   ]
  },
  {
   "cell_type": "code",
   "execution_count": 198,
   "metadata": {},
   "outputs": [],
   "source": [
    "import pandas as pd\n",
    "from collections import defaultdict\n",
    "def merge_res(dps,dsname=None):\n",
    "    res = dp[0].copy(deep=True)\n",
    "    #nflod = len(dps)\n",
    "    for r in range(res.shape[0]):\n",
    "        rows_pred = [d.iloc[r,1] for d in dps]\n",
    "        #vote = defaultdict(int ,zip(rows_pred,[0]*len(rows_pred)))\n",
    "        vote = dict(zip(rows_pred,[0]*len(rows_pred)))\n",
    "        best_cnt = 0\n",
    "        best = None \n",
    "        max_len = 0\n",
    "        max_len_pred = None\n",
    "        for p in rows_pred:\n",
    "            vote[p] += 1\n",
    "            if vote[p]>best_cnt:\n",
    "                best_cnt = vote[p]\n",
    "                best = p\n",
    "            p = str(p)\n",
    "            if len(p)>max_len:\n",
    "                max_len = len(p)\n",
    "                max_len_pred = p\n",
    "        if best_cnt ==1:\n",
    "            best = max_len_pred\n",
    "        res.iloc[r,1] = best\n",
    "        #print(best,best_cnt, rows_pred)\n",
    "    if dsname:\n",
    "        res_dir = \"./results\"\n",
    "        if not os.path.exists(res_dir):\n",
    "            os.makedirs(res_dir)\n",
    "        res_path = \"results/\" + dsname + \".tsv\"\n",
    "        res.to_csv(res_path,sep=\"\\t\",index=False)\n",
    "    return res\n",
    "\n",
    "def get_merge_res(dsname,nflod=3):\n",
    "    dps = []\n",
    "    for i in range(nflod):\n",
    "        res_path = \"checkpoint/\" + dsname  + \"/\" + str(i)+ \"/\" + dsname + \".tsv\"\n",
    "        dps.append(pd.read_csv(res_path,sep=\"\\t\"))\n",
    "    merge_res(dps,dsname)"
   ]
  },
  {
   "cell_type": "code",
   "execution_count": 199,
   "metadata": {},
   "outputs": [],
   "source": [
    "get_merge_res(\"COTE_DP\",3)"
   ]
  },
  {
   "cell_type": "code",
   "execution_count": 186,
   "metadata": {},
   "outputs": [],
   "source": [
    "res_path1 = \"./results/COTE_DP.tsv\" \n",
    "res_path2 = \"./results2/COTE_DP.tsv\"\n",
    "ds1 = pd.read_csv(res_path1,sep=\"\\t\")\n",
    "ds2 =pd.read_csv(res_path2,sep=\"\\t\")"
   ]
  },
  {
   "cell_type": "code",
   "execution_count": 197,
   "metadata": {},
   "outputs": [
    {
     "output_type": "stream",
     "name": "stdout",
     "text": [
      "total 0\n"
     ]
    }
   ],
   "source": [
    "cnt = 0\n",
    "for i in range(ds1.shape[0]):\n",
    "    if str(ds1.iloc[i,1])==\"nan\":\n",
    "        cnt += 1\n",
    "        #print(i,ds1.iloc[i,1])\n",
    "        ds1.iloc[i,1] = ds2.iloc[i,1]\n",
    "print(\"total\",cnt)\n",
    "ds1.to_csv(\"results/COTE_DP.tsv\",sep=\"\\t\",index=False)"
   ]
  },
  {
   "cell_type": "code",
   "execution_count": 209,
   "metadata": {},
   "outputs": [],
   "source": [
    "import csv\n",
    "def make_format(dsname):\n",
    "    res_path = \"results/\" + dsname + \".tsv\"\n",
    "    ds = pd.read_csv(res_path,sep=\"\\t\",quoting=csv.QUOTE_NONE)\n",
    "    ds.to_csv(res_path,sep=\"\\t\",index=False)"
   ]
  },
  {
   "cell_type": "code",
   "execution_count": 210,
   "metadata": {},
   "outputs": [],
   "source": [
    "dss = [\"COTE_DP\",\"COTE_BD\",\"COTE_MFW\"]\n",
    "for d in dss:\n",
    "    make_format(d)"
   ]
  },
  {
   "cell_type": "code",
   "execution_count": 1,
   "metadata": {},
   "outputs": [],
   "source": [
    "import pandas as pd\n",
    "import csv"
   ]
  },
  {
   "cell_type": "code",
   "execution_count": 14,
   "metadata": {},
   "outputs": [],
   "source": [
    "    train_data = \"NLPCC14-SC\"#\n",
    "    data_path = \"data/\"+ train_data +\"/test.tsv\"\n",
    "    ds = pd.read_csv(data_path,sep=\"\\t\",quoting=csv.QUOTE_NONE)\n",
    "    ds.to_csv(data_path,sep=\"\\t\",index=False)"
   ]
  },
  {
   "cell_type": "code",
   "execution_count": 208,
   "metadata": {},
   "outputs": [
    {
     "output_type": "execute_result",
     "data": {
      "text/plain": [
       "       index prediction\n",
       "0          0        神女溪\n",
       "1          1        哈尔盖\n",
       "2          2       八一大桥\n",
       "3          3    石排湾郊野公园\n",
       "4          4       龙回头景\n",
       "...      ...        ...\n",
       "17676  17676          街\n",
       "17677  17677        敬序堂\n",
       "17678  17678         太湖\n",
       "17679  17679      长老峰景区\n",
       "17680  17680         献殿\n",
       "\n",
       "[17681 rows x 2 columns]"
      ],
      "text/html": "<div>\n<style scoped>\n    .dataframe tbody tr th:only-of-type {\n        vertical-align: middle;\n    }\n\n    .dataframe tbody tr th {\n        vertical-align: top;\n    }\n\n    .dataframe thead th {\n        text-align: right;\n    }\n</style>\n<table border=\"1\" class=\"dataframe\">\n  <thead>\n    <tr style=\"text-align: right;\">\n      <th></th>\n      <th>index</th>\n      <th>prediction</th>\n    </tr>\n  </thead>\n  <tbody>\n    <tr>\n      <th>0</th>\n      <td>0</td>\n      <td>神女溪</td>\n    </tr>\n    <tr>\n      <th>1</th>\n      <td>1</td>\n      <td>哈尔盖</td>\n    </tr>\n    <tr>\n      <th>2</th>\n      <td>2</td>\n      <td>八一大桥</td>\n    </tr>\n    <tr>\n      <th>3</th>\n      <td>3</td>\n      <td>石排湾郊野公园</td>\n    </tr>\n    <tr>\n      <th>4</th>\n      <td>4</td>\n      <td>龙回头景</td>\n    </tr>\n    <tr>\n      <th>...</th>\n      <td>...</td>\n      <td>...</td>\n    </tr>\n    <tr>\n      <th>17676</th>\n      <td>17676</td>\n      <td>街</td>\n    </tr>\n    <tr>\n      <th>17677</th>\n      <td>17677</td>\n      <td>敬序堂</td>\n    </tr>\n    <tr>\n      <th>17678</th>\n      <td>17678</td>\n      <td>太湖</td>\n    </tr>\n    <tr>\n      <th>17679</th>\n      <td>17679</td>\n      <td>长老峰景区</td>\n    </tr>\n    <tr>\n      <th>17680</th>\n      <td>17680</td>\n      <td>献殿</td>\n    </tr>\n  </tbody>\n</table>\n<p>17681 rows × 2 columns</p>\n</div>"
     },
     "metadata": {},
     "execution_count": 208
    }
   ],
   "source": [
    "import csv\n",
    "pd.read_csv(\"results/COTE_MFW.tsv\",sep=\"\\t\",quoting=csv.QUOTE_NONE)"
   ]
  },
  {
   "cell_type": "code",
   "execution_count": 215,
   "metadata": {},
   "outputs": [
    {
     "output_type": "stream",
     "name": "stderr",
     "text": [
      "2021-06-19 02:02:01 [<ipython-input-215-cb84dcff279b>] INFO:best_count: defaultdict(<class 'int'>, {1: 1, 2: 1})\n"
     ]
    }
   ],
   "source": [
    "d = defaultdict(int)\n",
    "d[1] += 1\n",
    "d[2] += 1\n",
    "str(d)\n",
    "log(\"best_count: {}\".format(d))"
   ]
  },
  {
   "cell_type": "code",
   "execution_count": 1,
   "metadata": {},
   "outputs": [],
   "source": [
    "a = \"最近看到论坛上很多摄友对于索尼的A58嗤之以鼻，挑很多毛病。看到了非常多，其实我想发表一下自己的看法。其实我不否认，一开始这款机子公布以后我也很失望，期待是因为感觉终于有一部索尼新的CMOS传感器来代替原来的1620万的“神之传感器”了。像素提升了400万，而且高感的效果并没有下降，从目前的样片来看，感觉高感效果和宽容度不亚于原来的A57。感觉高感效果和宽容度不亚于原来的A57。论坛上的大多朋友之所以很反感这部机器，主要的原因其实不外乎三个：1，和“5”开头的机器甚至“3”开头的机器都不相符的塑料卡口。2，在佳能的屏幕像素升至102万、自家的卡片机RX100都升至123万像素的时候，A58的LCD屏幕不升反降，变成了与A37相同的46万像素。3，完全没有发挥半透镜优势的对焦6张/秒的连拍速度。对于画质这方面，我也没资格说A58一定好于A57，但是就目前来看，599美元的18-55 Ⅱ套机无疑是最有利的竞争资本。而且就目前的资料来看，A58就是A37的替代品，因为A57并没有停产，这两者的定位从参数上就能看得非常清楚。在这个价位下，你还能奢望什么呢。3000+的单反/单电相机，说句实话，不算贵。一切的性能都是从价位上直接反映出来的，如果我发一个帖子说“我想要一个镁合金机身，全画幅，2400万像素，各种功能齐全、并且够我用2年不过时的相机，但我只有5000块钱，求推荐。”这种帖子一定不乏楼主傻X、做梦去吧、自己造一台之类的回复吧~原因很简单，因为我付出的钱和我拿到的东西不是等价的，同样的道理，把A58的卡口换成金属，用上A57的快门、把连拍速度提上去，再换成92万的主流LCD，（也就是一个升级了传感器的A57）你说请把它配上一个18-55Ⅱ镜头以599美金的价格卖给我，朋友们，厂家不是傻子。当然，对器材的追求永远是摄影者不变的话题，谁都希望以最低的价格拿到最好的东西。但是，毕竟成本在那摆着。希望大家把眼光转向技术层面，一个能用一台入门级拍出好作品的人，给他更好的机器只会让他的创作更加得心应手。而一味追求器材，其实是忽略了摄影的本质。还希望论坛里的朋友多把目光转向技术层面。最后声明一下，本人并不是什么索黑或者索粉，我只是一个理性购买器材的摄影爱好者，手头的器材是A77，NEX6，尼康FM2，海鸥4B以及宝丽来Model100。我选择的只是好用、耐用的器材，和品牌关系不大。发这个帖子也并不是顶索尼，而是希望论坛里的朋友们对新发布而又没有达到自己预想的机器抱一个端正的态度。最后希望大家一如既往的多出好片~\""
   ]
  },
  {
   "cell_type": "code",
   "execution_count": 3,
   "metadata": {},
   "outputs": [],
   "source": [
    "b = \"用了宾得好几年了，每个机型上市，提升都不大，K5的画质使人眼前一亮，宾得有前途了？网上好多朋友都说K5干掉了D300S、7D，画质敢比5DII，通过我一年半的使用，K5虽说画质在中端机算佼佼者，但画质比5DII不知差多少，连续自动对焦的速度是最差的，暗部对焦拉风箱，还有品控问题（反光板、污点门……）。基本打算换门了，可出来个K5II还有K5IIS，看了港台摄友的拍摄感受，重燃继续烧宾得的信心。话多了，说重点。先下结论：K-5 II s中端王者1、暗部对焦提升明显，比较K5简直不是一档次的，-3EV太强大了，拍了一张肉眼看不清的（肉眼只能看个大概，看不清图案），图片下有exif信息。测试镜头DA40/2.8，对焦果断，同样用K5测试对焦，拉风箱，根本不能对焦。2、画质提升多少这里就不细说了，网上搜索多得很，K5拍的好像蒙了一层雾，II s清晰锐利。3、动态对焦（连续自动对焦）提升明显，测试用宾得对焦最慢（我用过最慢的）DA*50-135，速度快了，明显听到超深波对焦的声音更大\""
   ]
  },
  {
   "cell_type": "code",
   "execution_count": 5,
   "metadata": {},
   "outputs": [],
   "source": [
    "c = \"e51使用感想，看贴就赠6650d的使用感想中午休市，闲来无事，写点感想用04年开始到现在都用诺基亚，经历了索爱T628-2100-6630-6681-N73-E61-黑莓8700-黑莓8820之后，重新回到了E51先说说黑莓换过两个黑莓，都是因为软件太少了，不光光是gps，就连普通的软件，黑莓都很不完善，年初的时候黑莓有了点讯输入法，但是也是个外挂输入法，发短信的时候要先调出输入法，发完之后关闭输入法，然后再发送，比较繁琐，而且黑莓上的点讯充其量也就是个带记忆和联想功能的输入法而已。这倒是不能怪点讯，本身黑莓的系统就很不开放，留给第三方开发软件的余地很少。这也导致了黑莓上软件远远不如WM和SB的真正原因，并不是大家所说的黑莓用的人比较少，小众，所以软件少。另外黑莓的桌面管理软件DM（相当于nokia的 pc suite）比较不人性化。升级慢，死机多，文件大，占资源，对我来说，黑莓不能支持在PC端发短信，也不是很方便。不过黑莓不是一无是处的机器，诺基亚的第一款Q键盘手机在不少地方就学习了BB的优点。总结一下黑莓的有点：1.价格便宜2.机器硬件相对配置高（可惜啊，软件少，有了金刚钻你也揽不了瓷器活儿）3.反应速度快（系统简单了，傻快傻快）4.安全设置丰富（洋人用的多，我们用的少）5.简单易用。（其实智能机你只要看过扫盲贴都简单易用，黑莓的简单体现在不需要签名，刷机的时候比起非大*陆行的nokia也方便一点）6.电池好。一天30-50条短信，10-20分钟左右电话，基本不上网，24小时不关机撑5天绰绰有余。E51E51是我s60 3rd的第二部手机，第一感觉就是快。内存大，cpu频率高，反应快是当然的。有点不胜枚举，51区51捧的人自然不少，我就不多说了说说51的缺点：1.电池待机时间短。打死3天（当然矮子里面拔高个儿，在诺基亚里面不算短的了）2.屏幕小了点3.容易进灰4.方向键掉漆我自己的版本是300.34.56，并无大家说的容易死机等这样那样的现象，总体来说还是稳定的。我装了个voipdoup wifi电话，是个耗电大户，因为一旦开启互联网电话，wifi是处于实时连接的状态的。实时连接意味着实时耗电。另外，容我说一句：摄像头真鸡肋！\""
   ]
  },
  {
   "cell_type": "code",
   "execution_count": 156,
   "metadata": {},
   "outputs": [
    {
     "output_type": "execute_result",
     "data": {
      "text/plain": [
       "        0                                                  1\n",
       "0   label                                             text_a\n",
       "1   恩施大峡谷                               秀美恩施大峡谷，因其奇、险让人流连忘返。\n",
       "2     龙鳞宫                龙鳞宫说白了，就是用多种颜色的灯光打在石钟乳上，形成五光十色的视觉效果\n",
       "3  舟山跨海大桥  回来百度方知道，舟山跨海大桥，又叫舟山大陆连岛工程，跨四座岛屿，翻九个涵洞，穿两个隧道，全长...\n",
       "4     旃檀林                　　旃檀林，又称“旃檀禅林”，位于九华街西南，背倚琵琶山，面朝化成寺。"
      ],
      "text/html": "<div>\n<style scoped>\n    .dataframe tbody tr th:only-of-type {\n        vertical-align: middle;\n    }\n\n    .dataframe tbody tr th {\n        vertical-align: top;\n    }\n\n    .dataframe thead th {\n        text-align: right;\n    }\n</style>\n<table border=\"1\" class=\"dataframe\">\n  <thead>\n    <tr style=\"text-align: right;\">\n      <th></th>\n      <th>0</th>\n      <th>1</th>\n    </tr>\n  </thead>\n  <tbody>\n    <tr>\n      <th>0</th>\n      <td>label</td>\n      <td>text_a</td>\n    </tr>\n    <tr>\n      <th>1</th>\n      <td>恩施大峡谷</td>\n      <td>秀美恩施大峡谷，因其奇、险让人流连忘返。</td>\n    </tr>\n    <tr>\n      <th>2</th>\n      <td>龙鳞宫</td>\n      <td>龙鳞宫说白了，就是用多种颜色的灯光打在石钟乳上，形成五光十色的视觉效果</td>\n    </tr>\n    <tr>\n      <th>3</th>\n      <td>舟山跨海大桥</td>\n      <td>回来百度方知道，舟山跨海大桥，又叫舟山大陆连岛工程，跨四座岛屿，翻九个涵洞，穿两个隧道，全长...</td>\n    </tr>\n    <tr>\n      <th>4</th>\n      <td>旃檀林</td>\n      <td>旃檀林，又称“旃檀禅林”，位于九华街西南，背倚琵琶山，面朝化成寺。</td>\n    </tr>\n  </tbody>\n</table>\n</div>"
     },
     "metadata": {},
     "execution_count": 156
    }
   ],
   "source": [
    "data=[]\n",
    "with open(\"data/COTE_MFW/train.tsv\", 'r',encoding='utf-8-sig') as f_input:\n",
    "    for line in f_input:\n",
    "        data.append(list(line.strip().split('\\t')))\n",
    "dt=pd.DataFrame(data)\n",
    "dt.head()"
   ]
  },
  {
   "cell_type": "code",
   "execution_count": 157,
   "metadata": {},
   "outputs": [
    {
     "output_type": "execute_result",
     "data": {
      "text/plain": [
       "Empty DataFrame\n",
       "Columns: [0, 1]\n",
       "Index: []"
      ],
      "text/html": "<div>\n<style scoped>\n    .dataframe tbody tr th:only-of-type {\n        vertical-align: middle;\n    }\n\n    .dataframe tbody tr th {\n        vertical-align: top;\n    }\n\n    .dataframe thead th {\n        text-align: right;\n    }\n</style>\n<table border=\"1\" class=\"dataframe\">\n  <thead>\n    <tr style=\"text-align: right;\">\n      <th></th>\n      <th>0</th>\n      <th>1</th>\n    </tr>\n  </thead>\n  <tbody>\n  </tbody>\n</table>\n</div>"
     },
     "metadata": {},
     "execution_count": 157
    }
   ],
   "source": [
    "dt[dt.iloc[:,0].map(lambda x: x[-3:]=='汉堡王' )]"
   ]
  },
  {
   "cell_type": "code",
   "execution_count": 158,
   "metadata": {},
   "outputs": [
    {
     "output_type": "execute_result",
     "data": {
      "text/plain": [
       "Empty DataFrame\n",
       "Columns: [0, 1]\n",
       "Index: []"
      ],
      "text/html": "<div>\n<style scoped>\n    .dataframe tbody tr th:only-of-type {\n        vertical-align: middle;\n    }\n\n    .dataframe tbody tr th {\n        vertical-align: top;\n    }\n\n    .dataframe thead th {\n        text-align: right;\n    }\n</style>\n<table border=\"1\" class=\"dataframe\">\n  <thead>\n    <tr style=\"text-align: right;\">\n      <th></th>\n      <th>0</th>\n      <th>1</th>\n    </tr>\n  </thead>\n  <tbody>\n  </tbody>\n</table>\n</div>"
     },
     "metadata": {},
     "execution_count": 158
    }
   ],
   "source": [
    "dt[dt.iloc[:,0].map(lambda x: x[-1]=='厅' and x[-2]!=\"餐\")]\n",
    "dt[dt.iloc[:,0].map(lambda x: x[-1]==\"饭\")]"
   ]
  },
  {
   "cell_type": "code",
   "execution_count": 160,
   "metadata": {},
   "outputs": [
    {
     "output_type": "execute_result",
     "data": {
      "text/plain": [
       "           0                                                  1\n",
       "114      金人台               见一条小船，铁人要求船家带他渡河，船家道破了铁人的本相并把它抬回金人台。\n",
       "232      展佛台  9层楼高的展佛台，庄严的气势与寺院庄重的建筑和为一体，每年藏历五月十四至十六日，在这里展示过...\n",
       "355       玉台                三清山玉台东临空谷，田园城廓，一览无余；北眺玉京，奇峰环峙，峰峦竞立。\n",
       "646      楚天台               楚天台上面的两只凤凰，这个太好看了，所以必须拍下来，··········\n",
       "734    赤湾古炮台   赤湾古炮台是花岗岩修砌而成的，这个古迹遗址保留至今，在炮台的两旁依旧清晰的可以看到历史遗留...\n",
       "...      ...                                                ...\n",
       "40426  四方街戏台  在四方街戏台周边有几家不错的餐馆什么杨记私房菜，吉祥红餐馆，二楼餐厅等等，在这里首推吉祥红餐...\n",
       "40460    菊花台                 乌鲁木齐周边的景区，和南山、菊花台等一样的山地特色。去哪里都差不多。\n",
       "40470    文殊台     就是锦绣谷一路走，就可以到达文书台，对这里的历史了解不多。在文殊台上可以看到山下的一座寺庙。\n",
       "40480    天问台              天问台位于大峡谷之中，这里斧削刀劈的山峰气势磅礴，四周峡谷合拢，云气雾岚。\n",
       "40768    楚望台   武昌首义就是从楚望台军械库开始的，现在为了纪念辛亥革命100周年重新修了城墙，立了楚望台的标志。\n",
       "\n",
       "[480 rows x 2 columns]"
      ],
      "text/html": "<div>\n<style scoped>\n    .dataframe tbody tr th:only-of-type {\n        vertical-align: middle;\n    }\n\n    .dataframe tbody tr th {\n        vertical-align: top;\n    }\n\n    .dataframe thead th {\n        text-align: right;\n    }\n</style>\n<table border=\"1\" class=\"dataframe\">\n  <thead>\n    <tr style=\"text-align: right;\">\n      <th></th>\n      <th>0</th>\n      <th>1</th>\n    </tr>\n  </thead>\n  <tbody>\n    <tr>\n      <th>114</th>\n      <td>金人台</td>\n      <td>见一条小船，铁人要求船家带他渡河，船家道破了铁人的本相并把它抬回金人台。</td>\n    </tr>\n    <tr>\n      <th>232</th>\n      <td>展佛台</td>\n      <td>9层楼高的展佛台，庄严的气势与寺院庄重的建筑和为一体，每年藏历五月十四至十六日，在这里展示过...</td>\n    </tr>\n    <tr>\n      <th>355</th>\n      <td>玉台</td>\n      <td>三清山玉台东临空谷，田园城廓，一览无余；北眺玉京，奇峰环峙，峰峦竞立。</td>\n    </tr>\n    <tr>\n      <th>646</th>\n      <td>楚天台</td>\n      <td>楚天台上面的两只凤凰，这个太好看了，所以必须拍下来，··········</td>\n    </tr>\n    <tr>\n      <th>734</th>\n      <td>赤湾古炮台</td>\n      <td>赤湾古炮台是花岗岩修砌而成的，这个古迹遗址保留至今，在炮台的两旁依旧清晰的可以看到历史遗留...</td>\n    </tr>\n    <tr>\n      <th>...</th>\n      <td>...</td>\n      <td>...</td>\n    </tr>\n    <tr>\n      <th>40426</th>\n      <td>四方街戏台</td>\n      <td>在四方街戏台周边有几家不错的餐馆什么杨记私房菜，吉祥红餐馆，二楼餐厅等等，在这里首推吉祥红餐...</td>\n    </tr>\n    <tr>\n      <th>40460</th>\n      <td>菊花台</td>\n      <td>乌鲁木齐周边的景区，和南山、菊花台等一样的山地特色。去哪里都差不多。</td>\n    </tr>\n    <tr>\n      <th>40470</th>\n      <td>文殊台</td>\n      <td>就是锦绣谷一路走，就可以到达文书台，对这里的历史了解不多。在文殊台上可以看到山下的一座寺庙。</td>\n    </tr>\n    <tr>\n      <th>40480</th>\n      <td>天问台</td>\n      <td>天问台位于大峡谷之中，这里斧削刀劈的山峰气势磅礴，四周峡谷合拢，云气雾岚。</td>\n    </tr>\n    <tr>\n      <th>40768</th>\n      <td>楚望台</td>\n      <td>武昌首义就是从楚望台军械库开始的，现在为了纪念辛亥革命100周年重新修了城墙，立了楚望台的标志。</td>\n    </tr>\n  </tbody>\n</table>\n<p>480 rows × 2 columns</p>\n</div>"
     },
     "metadata": {},
     "execution_count": 160
    }
   ],
   "source": [
    "dt[dt.iloc[:,0].map(lambda x: x[-1]=='台')]"
   ]
  },
  {
   "cell_type": "code",
   "execution_count": 116,
   "metadata": {},
   "outputs": [
    {
     "output_type": "execute_result",
     "data": {
      "text/plain": [
       "3956"
      ]
     },
     "metadata": {},
     "execution_count": 116
    }
   ],
   "source": [
    "dtt = dt.iloc[:,1].map(lambda x:len(x))>128\n",
    "dtt.sum()"
   ]
  },
  {
   "cell_type": "code",
   "execution_count": 96,
   "metadata": {},
   "outputs": [],
   "source": [
    "#a = pd.read_csv(\"data/SE-ABSA16_CAME/train.tsv\",sep=\"\\t\",quoting=csv.QUOTE_NONE)\n",
    "#a2 = pd.read_csv(\"data/SE-ABSA16_CAME/test.tsv\",sep=\"\\t\",quoting=csv.QUOTE_NONE)\n",
    "dsname = \"SE-ABSA16_PHNS\"\n",
    "a = pd.read_csv(\"data/\"+dsname+\"/train.tsv\",sep=\"\\t\",quoting=csv.QUOTE_NONE)\n",
    "a2 = pd.read_csv(\"data/\"+dsname+\"/test.tsv\",sep=\"\\t\",quoting=csv.QUOTE_NONE)"
   ]
  },
  {
   "cell_type": "code",
   "execution_count": 118,
   "metadata": {},
   "outputs": [
    {
     "output_type": "execute_result",
     "data": {
      "text/plain": [
       "1    761\n",
       "0    575\n",
       "Name: label, dtype: int64"
      ]
     },
     "metadata": {},
     "execution_count": 118
    }
   ],
   "source": [
    "a['label'].value_counts()"
   ]
  },
  {
   "cell_type": "code",
   "execution_count": 38,
   "metadata": {},
   "outputs": [
    {
     "output_type": "execute_result",
     "data": {
      "text/plain": [
       "['price',\n",
       " 'quality',\n",
       " 'photo',\n",
       " 'cpu',\n",
       " 'miscellaneous',\n",
       " 'software',\n",
       " 'lens',\n",
       " 'connectivity',\n",
       " 'keyboard',\n",
       " 'display',\n",
       " 'os',\n",
       " 'general',\n",
       " 'operation_performance',\n",
       " 'hardware',\n",
       " 'focus',\n",
       " 'battery',\n",
       " 'power_supply',\n",
       " 'camera',\n",
       " 'ports',\n",
       " 'memory',\n",
       " 'usability',\n",
       " 'portability',\n",
       " 'design_features',\n",
       " 'multimedia_devices']"
      ]
     },
     "metadata": {},
     "execution_count": 38
    }
   ],
   "source": [
    "b = list(set(a['text_a'].to_list()))\n",
    "c = [bb.split(\"#\") for bb in b]\n",
    "d = []\n",
    "#d = [d.extend(cc) for cc in c]\n",
    "for cc in c:\n",
    "    d.extend(cc)\n",
    "e = list(set(d))\n",
    "e"
   ]
  },
  {
   "cell_type": "code",
   "execution_count": 52,
   "metadata": {},
   "outputs": [],
   "source": [
    "e = ['price',\n",
    " 'quality',\n",
    " 'photo',\n",
    " 'cpu',\n",
    " 'miscellaneous',\n",
    " 'software',\n",
    " 'lens',\n",
    " 'connectivity',\n",
    " 'keyboard',\n",
    " 'display',\n",
    " 'os',\n",
    " 'general',\n",
    " 'operation_performance',\n",
    " 'hardware',\n",
    " 'focus',\n",
    " 'battery',\n",
    " 'power_supply',\n",
    " 'camera',\n",
    " 'ports',\n",
    " 'memory',\n",
    " 'usability',\n",
    " 'portability',\n",
    " 'design_features',\n",
    " 'multimedia_devices']\n"
   ]
  },
  {
   "cell_type": "code",
   "execution_count": 56,
   "metadata": {},
   "outputs": [
    {
     "output_type": "execute_result",
     "data": {
      "text/plain": [
       "(24, 24)"
      ]
     },
     "metadata": {},
     "execution_count": 56
    }
   ],
   "source": [
    "f=['价格','质量','照片','处理器','多方面的','软件','镜头','手感顺畅性','按键','显示画质','操作系统','概括','操作性能','硬件','对焦','电池','电源供应','相机','接口','内存','易用性','轻便可携带性','设计特点','多媒体设备']\n",
    "len(e),len(f)"
   ]
  },
  {
   "cell_type": "code",
   "execution_count": 84,
   "metadata": {},
   "outputs": [
    {
     "output_type": "execute_result",
     "data": {
      "text/plain": [
       "(23, 23)"
      ]
     },
     "metadata": {},
     "execution_count": 84
    }
   ],
   "source": [
    "f = [\"内存\",\"硬件\",\"价格\",\"质量\",\"硬盘\",\"一般的\",\"多媒体设备\",\"支持\",\"手机\",\"电源供应\",\"显示\",\"多方面的\",\"手感顺畅性\",\"操作系统\",\"易用性\",\"电池\",\"设计特点\",\"保修\",\"操作性能\",\"键盘\",\"处理器\",\"端口\",\"软件\"]\n",
    "e = ['memory','hardware','price','quality','hard_disc','general','multimedia_devices','support','phone','power_supply','display','miscellaneous','connectivity','os','usability','battery','design_features','warranty','operation_performance','keyboard','cpu','ports','software']\n",
    "len(e),len(f)"
   ]
  },
  {
   "cell_type": "code",
   "execution_count": 85,
   "metadata": {},
   "outputs": [
    {
     "output_type": "execute_result",
     "data": {
      "text/plain": [
       "{'memory': '内存',\n",
       " 'hardware': '硬件',\n",
       " 'price': '价格',\n",
       " 'quality': '质量',\n",
       " 'hard_disc': '硬盘',\n",
       " 'general': '一般的',\n",
       " 'multimedia_devices': '多媒体设备',\n",
       " 'support': '支持',\n",
       " 'phone': '手机',\n",
       " 'power_supply': '电源供应',\n",
       " 'display': '显示',\n",
       " 'miscellaneous': '多方面的',\n",
       " 'connectivity': '手感顺畅性',\n",
       " 'os': '操作系统',\n",
       " 'usability': '易用性',\n",
       " 'battery': '电池',\n",
       " 'design_features': '设计特点',\n",
       " 'warranty': '保修',\n",
       " 'operation_performance': '操作性能',\n",
       " 'keyboard': '键盘',\n",
       " 'cpu': '处理器',\n",
       " 'ports': '端口',\n",
       " 'software': '软件'}"
      ]
     },
     "metadata": {},
     "execution_count": 85
    }
   ],
   "source": [
    "maps = zip(e,f)\n",
    "maps= dict(maps)\n",
    "maps"
   ]
  },
  {
   "cell_type": "code",
   "execution_count": 88,
   "metadata": {},
   "outputs": [],
   "source": [
    "maps[\"portability\"] = \"轻便可携带性\"\n",
    "maps[\"support\"]=\"支持\""
   ]
  },
  {
   "cell_type": "code",
   "execution_count": 86,
   "metadata": {},
   "outputs": [
    {
     "output_type": "execute_result",
     "data": {
      "text/plain": [
       "      label    text_a                                             text_b\n",
       "0         1   手机#设计特点  今天有幸拿到了港版白色iPhone 5真机，试玩了一下，说说感受吧：1. 真机尺寸宽度与4/...\n",
       "1         1     显示#质量  今天有幸拿到了港版白色iPhone 5真机，试玩了一下，说说感受吧：1. 真机尺寸宽度与4/...\n",
       "2         1  端口#手感顺畅性  今天有幸拿到了港版白色iPhone 5真机，试玩了一下，说说感受吧：1. 真机尺寸宽度与4/...\n",
       "3         1  处理器#操作性能  今天有幸拿到了港版白色iPhone 5真机，试玩了一下，说说感受吧：1. 真机尺寸宽度与4/...\n",
       "4         1     显示#质量  1，外观上，iPhone5不是用来ZB的，所以别人看不看得出来，并不是我关心的问题。4寸的屏...\n",
       "...     ...       ...                                                ...\n",
       "1331      0     支持#质量  华为W1体验提醒购买手机的朋友，手机主要存在以下问题：向上滑动时，字迹模糊，是比较厉害的那种...\n",
       "1332      0  多媒体设备#质量  华为W1体验提醒购买手机的朋友，手机主要存在以下问题：向上滑动时，字迹模糊，是比较厉害的那种...\n",
       "1333      0   手机#多方面的  华为W1体验提醒购买手机的朋友，手机主要存在以下问题：向上滑动时，字迹模糊，是比较厉害的那种...\n",
       "1334      0  多媒体设备#质量  华为W1体验提醒购买手机的朋友，手机主要存在以下问题：向上滑动时，字迹模糊，是比较厉害的那种...\n",
       "1335      0  多媒体设备#质量  华为W1体验提醒购买手机的朋友，手机主要存在以下问题：向上滑动时，字迹模糊，是比较厉害的那种...\n",
       "\n",
       "[1336 rows x 3 columns]"
      ],
      "text/html": "<div>\n<style scoped>\n    .dataframe tbody tr th:only-of-type {\n        vertical-align: middle;\n    }\n\n    .dataframe tbody tr th {\n        vertical-align: top;\n    }\n\n    .dataframe thead th {\n        text-align: right;\n    }\n</style>\n<table border=\"1\" class=\"dataframe\">\n  <thead>\n    <tr style=\"text-align: right;\">\n      <th></th>\n      <th>label</th>\n      <th>text_a</th>\n      <th>text_b</th>\n    </tr>\n  </thead>\n  <tbody>\n    <tr>\n      <th>0</th>\n      <td>1</td>\n      <td>手机#设计特点</td>\n      <td>今天有幸拿到了港版白色iPhone 5真机，试玩了一下，说说感受吧：1. 真机尺寸宽度与4/...</td>\n    </tr>\n    <tr>\n      <th>1</th>\n      <td>1</td>\n      <td>显示#质量</td>\n      <td>今天有幸拿到了港版白色iPhone 5真机，试玩了一下，说说感受吧：1. 真机尺寸宽度与4/...</td>\n    </tr>\n    <tr>\n      <th>2</th>\n      <td>1</td>\n      <td>端口#手感顺畅性</td>\n      <td>今天有幸拿到了港版白色iPhone 5真机，试玩了一下，说说感受吧：1. 真机尺寸宽度与4/...</td>\n    </tr>\n    <tr>\n      <th>3</th>\n      <td>1</td>\n      <td>处理器#操作性能</td>\n      <td>今天有幸拿到了港版白色iPhone 5真机，试玩了一下，说说感受吧：1. 真机尺寸宽度与4/...</td>\n    </tr>\n    <tr>\n      <th>4</th>\n      <td>1</td>\n      <td>显示#质量</td>\n      <td>1，外观上，iPhone5不是用来ZB的，所以别人看不看得出来，并不是我关心的问题。4寸的屏...</td>\n    </tr>\n    <tr>\n      <th>...</th>\n      <td>...</td>\n      <td>...</td>\n      <td>...</td>\n    </tr>\n    <tr>\n      <th>1331</th>\n      <td>0</td>\n      <td>支持#质量</td>\n      <td>华为W1体验提醒购买手机的朋友，手机主要存在以下问题：向上滑动时，字迹模糊，是比较厉害的那种...</td>\n    </tr>\n    <tr>\n      <th>1332</th>\n      <td>0</td>\n      <td>多媒体设备#质量</td>\n      <td>华为W1体验提醒购买手机的朋友，手机主要存在以下问题：向上滑动时，字迹模糊，是比较厉害的那种...</td>\n    </tr>\n    <tr>\n      <th>1333</th>\n      <td>0</td>\n      <td>手机#多方面的</td>\n      <td>华为W1体验提醒购买手机的朋友，手机主要存在以下问题：向上滑动时，字迹模糊，是比较厉害的那种...</td>\n    </tr>\n    <tr>\n      <th>1334</th>\n      <td>0</td>\n      <td>多媒体设备#质量</td>\n      <td>华为W1体验提醒购买手机的朋友，手机主要存在以下问题：向上滑动时，字迹模糊，是比较厉害的那种...</td>\n    </tr>\n    <tr>\n      <th>1335</th>\n      <td>0</td>\n      <td>多媒体设备#质量</td>\n      <td>华为W1体验提醒购买手机的朋友，手机主要存在以下问题：向上滑动时，字迹模糊，是比较厉害的那种...</td>\n    </tr>\n  </tbody>\n</table>\n<p>1336 rows × 3 columns</p>\n</div>"
     },
     "metadata": {},
     "execution_count": 86
    }
   ],
   "source": [
    "aa = a.copy(deep=True)\n",
    "# for i in a.shape[0]:\n",
    "#     aa.iloc[i,1]\n",
    "def trans(s):\n",
    "    return \"#\".join([maps[t] for t in s.split(\"#\")])\n",
    "aa['text_a'] = aa['text_a'].map(trans)\n",
    "aa"
   ]
  },
  {
   "cell_type": "code",
   "execution_count": 89,
   "metadata": {},
   "outputs": [
    {
     "output_type": "execute_result",
     "data": {
      "text/plain": [
       "     qid   text_a                                             text_b\n",
       "0      0   软件#易用性  刚刚入手8600，体会。刚刚从淘宝购买，1635元（包邮）。1、全新，应该是欧版机，配件也是...\n",
       "1      1    显示#质量  mk16i用后的体验感觉不错，就是有点厚，屏幕分辨率高，运行流畅，就是不知道能不能刷4.0的系统啊\n",
       "2      2  手机#操作性能  mk16i用后的体验感觉不错，就是有点厚，屏幕分辨率高，运行流畅，就是不知道能不能刷4.0的系统啊\n",
       "3      3    显示#质量  k2初体验刚刚入手一款联想k2外观大气4.3寸屏幕显示效果中上吧刚刚入手一款联想k2外观大气...\n",
       "4      4    显示#质量  k2初体验刚刚入手一款联想k2外观大气4.3寸屏幕显示效果中上吧刚刚入手一款联想k2外观大气...\n",
       "..   ...      ...                                                ...\n",
       "524  524    显示#质量  小米手机刚到手时操作起来有些生疏，摸索了几天基本熟悉习惯了，短信电话等基本功能做得很人性化，...\n",
       "525  525    显示#质量  小米手机刚到手时操作起来有些生疏，摸索了几天基本熟悉习惯了，短信电话等基本功能做得很人性化，...\n",
       "526  526  操作系统#质量  小米手机刚到手时操作起来有些生疏，摸索了几天基本熟悉习惯了，短信电话等基本功能做得很人性化，...\n",
       "527  527    显示#质量  小米手机刚到手时操作起来有些生疏，摸索了几天基本熟悉习惯了，短信电话等基本功能做得很人性化，...\n",
       "528  528    显示#质量  小米手机刚到手时操作起来有些生疏，摸索了几天基本熟悉习惯了，短信电话等基本功能做得很人性化，...\n",
       "\n",
       "[529 rows x 3 columns]"
      ],
      "text/html": "<div>\n<style scoped>\n    .dataframe tbody tr th:only-of-type {\n        vertical-align: middle;\n    }\n\n    .dataframe tbody tr th {\n        vertical-align: top;\n    }\n\n    .dataframe thead th {\n        text-align: right;\n    }\n</style>\n<table border=\"1\" class=\"dataframe\">\n  <thead>\n    <tr style=\"text-align: right;\">\n      <th></th>\n      <th>qid</th>\n      <th>text_a</th>\n      <th>text_b</th>\n    </tr>\n  </thead>\n  <tbody>\n    <tr>\n      <th>0</th>\n      <td>0</td>\n      <td>软件#易用性</td>\n      <td>刚刚入手8600，体会。刚刚从淘宝购买，1635元（包邮）。1、全新，应该是欧版机，配件也是...</td>\n    </tr>\n    <tr>\n      <th>1</th>\n      <td>1</td>\n      <td>显示#质量</td>\n      <td>mk16i用后的体验感觉不错，就是有点厚，屏幕分辨率高，运行流畅，就是不知道能不能刷4.0的系统啊</td>\n    </tr>\n    <tr>\n      <th>2</th>\n      <td>2</td>\n      <td>手机#操作性能</td>\n      <td>mk16i用后的体验感觉不错，就是有点厚，屏幕分辨率高，运行流畅，就是不知道能不能刷4.0的系统啊</td>\n    </tr>\n    <tr>\n      <th>3</th>\n      <td>3</td>\n      <td>显示#质量</td>\n      <td>k2初体验刚刚入手一款联想k2外观大气4.3寸屏幕显示效果中上吧刚刚入手一款联想k2外观大气...</td>\n    </tr>\n    <tr>\n      <th>4</th>\n      <td>4</td>\n      <td>显示#质量</td>\n      <td>k2初体验刚刚入手一款联想k2外观大气4.3寸屏幕显示效果中上吧刚刚入手一款联想k2外观大气...</td>\n    </tr>\n    <tr>\n      <th>...</th>\n      <td>...</td>\n      <td>...</td>\n      <td>...</td>\n    </tr>\n    <tr>\n      <th>524</th>\n      <td>524</td>\n      <td>显示#质量</td>\n      <td>小米手机刚到手时操作起来有些生疏，摸索了几天基本熟悉习惯了，短信电话等基本功能做得很人性化，...</td>\n    </tr>\n    <tr>\n      <th>525</th>\n      <td>525</td>\n      <td>显示#质量</td>\n      <td>小米手机刚到手时操作起来有些生疏，摸索了几天基本熟悉习惯了，短信电话等基本功能做得很人性化，...</td>\n    </tr>\n    <tr>\n      <th>526</th>\n      <td>526</td>\n      <td>操作系统#质量</td>\n      <td>小米手机刚到手时操作起来有些生疏，摸索了几天基本熟悉习惯了，短信电话等基本功能做得很人性化，...</td>\n    </tr>\n    <tr>\n      <th>527</th>\n      <td>527</td>\n      <td>显示#质量</td>\n      <td>小米手机刚到手时操作起来有些生疏，摸索了几天基本熟悉习惯了，短信电话等基本功能做得很人性化，...</td>\n    </tr>\n    <tr>\n      <th>528</th>\n      <td>528</td>\n      <td>显示#质量</td>\n      <td>小米手机刚到手时操作起来有些生疏，摸索了几天基本熟悉习惯了，短信电话等基本功能做得很人性化，...</td>\n    </tr>\n  </tbody>\n</table>\n<p>529 rows × 3 columns</p>\n</div>"
     },
     "metadata": {},
     "execution_count": 89
    }
   ],
   "source": [
    "# a2['text_a'] = a2['text_a'].map(trans)\n",
    "# a2\n",
    "a2['text_a'] = a2['text_a'].map(trans)\n",
    "a2"
   ]
  },
  {
   "cell_type": "code",
   "execution_count": 80,
   "metadata": {},
   "outputs": [],
   "source": [
    "def truncate(s, ratio=0.6,max_len=512-3):\n",
    "    head_len = int(max_len*ratio)\n",
    "    tail_len = max_len - head_len\n",
    "    return s[:head_len] + s[-tail_len:]"
   ]
  },
  {
   "cell_type": "code",
   "execution_count": 91,
   "metadata": {},
   "outputs": [],
   "source": [
    "aa.to_csv(\"data/\"+dsname+\"/train.tsv\",sep=\"\\t\",index=False)\n",
    "a2.to_csv(\"data/\"+dsname+\"/test.tsv\",sep=\"\\t\",index=False)"
   ]
  },
  {
   "cell_type": "code",
   "execution_count": 77,
   "metadata": {},
   "outputs": [
    {
     "output_type": "execute_result",
     "data": {
      "text/plain": [
       "0       400\n",
       "1       400\n",
       "2       400\n",
       "3       400\n",
       "4       603\n",
       "       ... \n",
       "1331    364\n",
       "1332    364\n",
       "1333    364\n",
       "1334    364\n",
       "1335    364\n",
       "Name: len, Length: 1336, dtype: int64"
      ]
     },
     "metadata": {},
     "execution_count": 77
    }
   ],
   "source": [
    "aa[\"len\"] = aa[\"text_b\"].map(lambda x:len(x))\n",
    "aa[\"len\"]"
   ]
  },
  {
   "cell_type": "code",
   "execution_count": 85,
   "metadata": {},
   "outputs": [
    {
     "output_type": "execute_result",
     "data": {
      "text/plain": [
       "1890    43\n",
       "1136    26\n",
       "765     23\n",
       "799     23\n",
       "663     21\n",
       "        ..\n",
       "155      2\n",
       "225      2\n",
       "142      1\n",
       "185      1\n",
       "287      1\n",
       "Name: len, Length: 131, dtype: int64"
      ]
     },
     "metadata": {},
     "execution_count": 85
    }
   ],
   "source": [
    "aa[\"len\"].mean()\n",
    "aa[\"len\"].value_counts()#[:10]#to_list()"
   ]
  },
  {
   "cell_type": "code",
   "execution_count": 89,
   "metadata": {},
   "outputs": [],
   "source": [
    "pd.read_csv(\"data/SE-ABSA16_PHNS/train.tsv\",sep=\"\\t\").to_csv(\"data/SE-ABSA16_PHNS/train.tsv\",sep=\"\\t\",index=False)"
   ]
  },
  {
   "cell_type": "code",
   "execution_count": 95,
   "metadata": {},
   "outputs": [
    {
     "output_type": "execute_result",
     "data": {
      "text/plain": [
       "1    761\n",
       "0    575\n",
       "Name: label, dtype: int64"
      ]
     },
     "metadata": {},
     "execution_count": 95
    }
   ],
   "source": [
    "aa.label.value_counts()"
   ]
  },
  {
   "cell_type": "code",
   "execution_count": null,
   "metadata": {},
   "outputs": [],
   "source": []
  }
 ]
}