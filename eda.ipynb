{
 "metadata": {
  "language_info": {
   "codemirror_mode": {
    "name": "ipython",
    "version": 3
   },
   "file_extension": ".py",
   "mimetype": "text/x-python",
   "name": "python",
   "nbconvert_exporter": "python",
   "pygments_lexer": "ipython3",
   "version": "3.7.6"
  },
  "orig_nbformat": 4,
  "kernelspec": {
   "name": "python3",
   "display_name": "Python 3.7.6 64-bit ('base': conda)"
  },
  "interpreter": {
   "hash": "420f5c5368ac787b3dbad608e5889d58a897bdb041915a65b9e0b62b23e63c39"
  }
 },
 "nbformat": 4,
 "nbformat_minor": 2,
 "cells": [
  {
   "cell_type": "code",
   "execution_count": 1,
   "metadata": {},
   "outputs": [],
   "source": [
    "from sklearn.model_selection import KFold, RepeatedKFold\n",
    "from utils import evaluate,load_datasets\n",
    "from paddlenlp.datasets import load_dataset,MapDataset\n",
    "import numpy as np\n",
    "import pandas as pd\n",
    "import csv"
   ]
  },
  {
   "cell_type": "code",
   "execution_count": 7,
   "metadata": {},
   "outputs": [],
   "source": [
    "import pandas as pd\n",
    "from collections import defaultdict\n",
    "#对N折交叉验证结果投票\n",
    "nflod = 3\n",
    "from collections import defaultdict\n",
    "for r in range(res.head().shape[0]):\n",
    "    rows_pred = [d.iloc[r,1] for d in dp]\n",
    "    vote = defaultdict(int ,zip(rows_pred,[0]*len(rows_pred)))\n",
    "    pred = set(rows_pred[0])\n",
    "    best_cnt = 0\n",
    "    best = None \n",
    "    for p in rows_pred:\n",
    "        vote[p] += 1\n",
    "        if vote[p]>best_cnt:\n",
    "            best_cnt = vote[p]\n",
    "            best = p\n",
    "        pred &= set(p)\n",
    "    for p1 in rows_pred:\n",
    "        for p2 in rows_pred:\n",
    "            joint = \"\".join(set(p1)&set(p2))\n",
    "            if joint in p1 and joint in p2:\n",
    "                vote[joint] += 1\n",
    "    print(best,best_cnt, rows_pred)\n",
    "\n",
    "def merge_res(dps,dsname=None):\n",
    "    res = dp[0].copy(deep=True)\n",
    "    #nflod = len(dps)\n",
    "    for r in range(res.shape[0]):\n",
    "        rows_pred = [d.iloc[r,1] for d in dps]\n",
    "        #vote = defaultdict(int ,zip(rows_pred,[0]*len(rows_pred)))\n",
    "        vote = dict(zip(rows_pred,[0]*len(rows_pred)))\n",
    "        best_cnt = 0\n",
    "        best = None \n",
    "        max_len = 0\n",
    "        max_len_pred = None\n",
    "        for p in rows_pred:\n",
    "            vote[p] += 1\n",
    "            if vote[p]>best_cnt:\n",
    "                best_cnt = vote[p]\n",
    "                best = p\n",
    "            p = str(p)\n",
    "            if len(p)>max_len:\n",
    "                max_len = len(p)\n",
    "                max_len_pred = p\n",
    "        if best_cnt ==1:\n",
    "            best = max_len_pred\n",
    "        res.iloc[r,1] = best\n",
    "        #print(best,best_cnt, rows_pred)\n",
    "    if dsname:\n",
    "        res_dir = \"./results\"\n",
    "        if not os.path.exists(res_dir):\n",
    "            os.makedirs(res_dir)\n",
    "        res_path = \"results/\" + dsname + \".tsv\"\n",
    "        res.to_csv(res_path,sep=\"\\t\",index=False)\n",
    "    return res\n",
    "\n",
    "def get_merge_res(dsname,nflod=3):\n",
    "    dps = []\n",
    "    for i in range(nflod):\n",
    "        res_path = \"checkpoint/\" + dsname  + \"/\" + str(i)+ \"/\" + dsname + \".tsv\"\n",
    "        dps.append(pd.read_csv(res_path,sep=\"\\t\"))\n",
    "    merge_res(dps,dsname)"
   ]
  },
  {
   "cell_type": "code",
   "execution_count": 199,
   "metadata": {},
   "outputs": [],
   "source": [
    "get_merge_res(\"COTE_DP\",3)"
   ]
  },
  {
   "cell_type": "code",
   "execution_count": 186,
   "metadata": {},
   "outputs": [],
   "source": [
    "res_path1 = \"./results/COTE_DP.tsv\" \n",
    "res_path2 = \"./results2/COTE_DP.tsv\"\n",
    "ds1 = pd.read_csv(res_path1,sep=\"\\t\")\n",
    "ds2 =pd.read_csv(res_path2,sep=\"\\t\")"
   ]
  },
  {
   "cell_type": "code",
   "execution_count": 197,
   "metadata": {},
   "outputs": [
    {
     "output_type": "stream",
     "name": "stdout",
     "text": [
      "total 0\n"
     ]
    }
   ],
   "source": [
    "cnt = 0\n",
    "for i in range(ds1.shape[0]):\n",
    "    if str(ds1.iloc[i,1])==\"nan\":\n",
    "        cnt += 1\n",
    "        #print(i,ds1.iloc[i,1])\n",
    "        ds1.iloc[i,1] = ds2.iloc[i,1]\n",
    "print(\"total\",cnt)\n",
    "ds1.to_csv(\"results/COTE_DP.tsv\",sep=\"\\t\",index=False)"
   ]
  },
  {
   "cell_type": "code",
   "execution_count": 209,
   "metadata": {},
   "outputs": [],
   "source": [
    "import csv\n",
    "def make_format(dsname):\n",
    "    res_path = \"results/\" + dsname + \".tsv\"\n",
    "    ds = pd.read_cv(res_path,sep=\"\\t\",quoting=csv.QUOTE_NONE)\n",
    "    ds.to_csv(res_path,sep=\"\\t\"s"
   ]
  },
  {
   "cell_type": "code",
   "execution_count": 210,
   "metadata": {},
   "outputs": [],
   "source": [
    "dss = [\"COTE_DP\",\"COTE_BD\",\"COTE_MFW\"]\n",
    "for d in dss:\n",
    "    make_format(d)"
   ]
  },
  {
   "cell_type": "code",
   "execution_count": 46,
   "metadata": {},
   "outputs": [
    {
     "output_type": "execute_result",
     "data": {
      "text/plain": [
       "0          芝罘岛\n",
       "1          泽拉图\n",
       "2           鸟人\n",
       "3       南宫市悬空寺\n",
       "4         唐家三少\n",
       "         ...  \n",
       "8528       曲子原\n",
       "8529       杨家界\n",
       "8530    犯罪现场调查\n",
       "8531       霍元甲\n",
       "8532        职业\n",
       "Name: label, Length: 8533, dtype: object"
      ]
     },
     "metadata": {},
     "execution_count": 46
    }
   ],
   "source": [
    "def read_train_data(dsname):\n",
    "    res_path = \"data/\" + dsname + \"/train.tsv\"\n",
    "    return pd.read_csv(res_path,sep=\"\\t\",quoting=csv.QUOTE_NONE)\n",
    "def read_test_data(dsname):\n",
    "    res_path = \"data/\" + dsname + \"/test.tsv\"\n",
    "    return pd.read_csv(res_path,sep=\"\\t\",quoting=csv.QUOTE_NONE)\n",
    "dt = read_train_data(\"COTE_BD\")\n",
    "dt.iloc[:,0]"
   ]
  },
  {
   "cell_type": "code",
   "execution_count": 40,
   "metadata": {},
   "outputs": [
    {
     "output_type": "execute_result",
     "data": {
      "text/plain": [
       "         0                                         1\n",
       "0    label                                    text_a\n",
       "1   重庆老灶火锅                    重庆老灶火锅还是很赞的，有机会可以尝试一下！\n",
       "2     炉鱼来了  一入店内，就看到招牌特别大的炉鱼来了，餐桌上还摆了五颜六色的小蜡烛，挺有调调的。\n",
       "3      外婆家                  只能说是聚餐圣地外婆家一个需要提前来取号的地方。\n",
       "4  斗牛士牛排餐厅      店铺：斗牛士牛排餐厅地址：大洋百货8楼环境：还不错，很西餐的感觉，典雅。"
      ],
      "text/html": "<div>\n<style scoped>\n    .dataframe tbody tr th:only-of-type {\n        vertical-align: middle;\n    }\n\n    .dataframe tbody tr th {\n        vertical-align: top;\n    }\n\n    .dataframe thead th {\n        text-align: right;\n    }\n</style>\n<table border=\"1\" class=\"dataframe\">\n  <thead>\n    <tr style=\"text-align: right;\">\n      <th></th>\n      <th>0</th>\n      <th>1</th>\n    </tr>\n  </thead>\n  <tbody>\n    <tr>\n      <th>0</th>\n      <td>label</td>\n      <td>text_a</td>\n    </tr>\n    <tr>\n      <th>1</th>\n      <td>重庆老灶火锅</td>\n      <td>重庆老灶火锅还是很赞的，有机会可以尝试一下！</td>\n    </tr>\n    <tr>\n      <th>2</th>\n      <td>炉鱼来了</td>\n      <td>一入店内，就看到招牌特别大的炉鱼来了，餐桌上还摆了五颜六色的小蜡烛，挺有调调的。</td>\n    </tr>\n    <tr>\n      <th>3</th>\n      <td>外婆家</td>\n      <td>只能说是聚餐圣地外婆家一个需要提前来取号的地方。</td>\n    </tr>\n    <tr>\n      <th>4</th>\n      <td>斗牛士牛排餐厅</td>\n      <td>店铺：斗牛士牛排餐厅地址：大洋百货8楼环境：还不错，很西餐的感觉，典雅。</td>\n    </tr>\n  </tbody>\n</table>\n</div>"
     },
     "metadata": {},
     "execution_count": 40
    }
   ],
   "source": [
    "def read_train_data(dsname=\"COTE_DP\"):\n",
    "    data=[]\n",
    "    with open(\"data/\"+dsname+\"/train.tsv\", 'r',encoding='utf-8-sig') as f_input:\n",
    "        for line in f_input:\n",
    "            data.append(list(line.strip().split('\\t')))\n",
    "    dt=pd.DataFrame(data)\n",
    "    return dt.iloc[:,:2]\n",
    "dt = read_train_data(\"COTE_DP\")\n",
    "dt.head()"
   ]
  },
  {
   "cell_type": "code",
   "execution_count": 41,
   "metadata": {},
   "outputs": [
    {
     "output_type": "execute_result",
     "data": {
      "text/plain": [
       "         0                                                  1\n",
       "49     汉堡王         这家汉堡王是有卫生间的，之前去别的店基本都开在商场里，只有洗手池，没有独立的洗手间。\n",
       "77     汉堡王  圣代还算不错，适合餐后来吃，作为福州的第一家汉堡王，在外圈店铺中的生意算是不错，超值套餐的分...\n",
       "121    汉堡王  新出的（ 桑巴烤菠萝鸡堡）（桑巴烤菠萝牛堡）都是里面有夹着一块圆圆的菠萝和几片生菜，菠萝上面...\n",
       "198    汉堡王                      今天由于比较懒，点的汉堡王的外卖，等了半个多小时送过来的。\n",
       "251    汉堡王   话说第一次知道汉堡王，还是看浙江卫视的《爸爸回来了》里面吴尊开了一家汉堡王的店，才知道了汉堡王！\n",
       "...    ...                                                ...\n",
       "24903  汉堡王                   汉堡王的早餐还是第一次去尝试，他们是早上8点到10点半供应早餐。\n",
       "25002  汉堡王          汉堡王的薯条个头大又粗，咸淡也适中，个人感觉比肯德基的要好吃。我和小伙伴都很喜欢。\n",
       "25074  汉堡王  自打去年9月，汉堡王进驻南部商务区，就在我公司边上大楼的楼下，已经不知道去了几次了，从9月2...\n",
       "25243  汉堡王   汉堡王在昆明热闹的商业圈都有分店，生意好坏各有千秋……生意最好的就是金鹰店，招牌菜肯定就是汉堡。\n",
       "25251  汉堡王          汉堡味道确实不错，不愧汉堡王这个名字！薯条味道也不错，跟肯德基麦当劳不一样的口味！\n",
       "\n",
       "[300 rows x 2 columns]"
      ],
      "text/html": "<div>\n<style scoped>\n    .dataframe tbody tr th:only-of-type {\n        vertical-align: middle;\n    }\n\n    .dataframe tbody tr th {\n        vertical-align: top;\n    }\n\n    .dataframe thead th {\n        text-align: right;\n    }\n</style>\n<table border=\"1\" class=\"dataframe\">\n  <thead>\n    <tr style=\"text-align: right;\">\n      <th></th>\n      <th>0</th>\n      <th>1</th>\n    </tr>\n  </thead>\n  <tbody>\n    <tr>\n      <th>49</th>\n      <td>汉堡王</td>\n      <td>这家汉堡王是有卫生间的，之前去别的店基本都开在商场里，只有洗手池，没有独立的洗手间。</td>\n    </tr>\n    <tr>\n      <th>77</th>\n      <td>汉堡王</td>\n      <td>圣代还算不错，适合餐后来吃，作为福州的第一家汉堡王，在外圈店铺中的生意算是不错，超值套餐的分...</td>\n    </tr>\n    <tr>\n      <th>121</th>\n      <td>汉堡王</td>\n      <td>新出的（ 桑巴烤菠萝鸡堡）（桑巴烤菠萝牛堡）都是里面有夹着一块圆圆的菠萝和几片生菜，菠萝上面...</td>\n    </tr>\n    <tr>\n      <th>198</th>\n      <td>汉堡王</td>\n      <td>今天由于比较懒，点的汉堡王的外卖，等了半个多小时送过来的。</td>\n    </tr>\n    <tr>\n      <th>251</th>\n      <td>汉堡王</td>\n      <td>话说第一次知道汉堡王，还是看浙江卫视的《爸爸回来了》里面吴尊开了一家汉堡王的店，才知道了汉堡王！</td>\n    </tr>\n    <tr>\n      <th>...</th>\n      <td>...</td>\n      <td>...</td>\n    </tr>\n    <tr>\n      <th>24903</th>\n      <td>汉堡王</td>\n      <td>汉堡王的早餐还是第一次去尝试，他们是早上8点到10点半供应早餐。</td>\n    </tr>\n    <tr>\n      <th>25002</th>\n      <td>汉堡王</td>\n      <td>汉堡王的薯条个头大又粗，咸淡也适中，个人感觉比肯德基的要好吃。我和小伙伴都很喜欢。</td>\n    </tr>\n    <tr>\n      <th>25074</th>\n      <td>汉堡王</td>\n      <td>自打去年9月，汉堡王进驻南部商务区，就在我公司边上大楼的楼下，已经不知道去了几次了，从9月2...</td>\n    </tr>\n    <tr>\n      <th>25243</th>\n      <td>汉堡王</td>\n      <td>汉堡王在昆明热闹的商业圈都有分店，生意好坏各有千秋……生意最好的就是金鹰店，招牌菜肯定就是汉堡。</td>\n    </tr>\n    <tr>\n      <th>25251</th>\n      <td>汉堡王</td>\n      <td>汉堡味道确实不错，不愧汉堡王这个名字！薯条味道也不错，跟肯德基麦当劳不一样的口味！</td>\n    </tr>\n  </tbody>\n</table>\n<p>300 rows × 2 columns</p>\n</div>"
     },
     "metadata": {},
     "execution_count": 41
    }
   ],
   "source": [
    "dt[dt.iloc[:,0].map(lambda x: x[-3:]=='汉堡王' )]"
   ]
  },
  {
   "cell_type": "code",
   "execution_count": 44,
   "metadata": {},
   "outputs": [
    {
     "output_type": "execute_result",
     "data": {
      "text/plain": [
       "                  0                                                  1\n",
       "147         影私空间咖啡厅             一直听说吉祥广场那开了一家新的影私空间咖啡厅。好多朋友说过来看过，环境不错。\n",
       "254           知味咖啡厅  就冲这一点，服务就可以在两颗星的基础上再加一星。地方在威斯汀酒店的知味咖啡厅，也就是大堂的天井里。\n",
       "5270       水天堂西餐咖啡厅                   水天堂西餐咖啡厅在观前街富仁坊65号金鼎中心2楼(蒙自米线旁)。\n",
       "10030   粤财假日酒店语喋咖啡厅    粤财假日酒店语喋咖啡厅就在吉大粤财假期酒店里的4楼，记得上次去是去年的母亲节，和妈妈一起去的。\n",
       "10733       影私空间咖啡厅              自己一直也非常想过来看看，突然发现美团，大众有着一下影私空间咖啡厅的团购。\n",
       "17252        马迭尔冷饮厅  马迭尔冷饮厅：中央大街上最大的亮点，无论冬夏，只要看到排队人群，那就是马迭尔冷饮厅的外卖窗口...\n",
       "18352         樱花咖啡厅  昆明假日酒店二楼的樱花咖啡厅，环境优雅，灯光微暗，很有情调的样子，不过因为是敞开式的环境，靠...\n",
       "18761       西瓜庄园咖啡厅  微信上某公众号中了西瓜庄园咖啡厅的一个单人套餐,前些日子坐地铁过去了.地址是在江东区中山东路...\n",
       "21187       西瓜庄园咖啡厅  “西瓜庄园咖啡厅” 在中山东路边上，这家店集茶舍、花房、咖啡和儿童摄影为一体，饱含了店家夫妻...\n",
       "23172      山水大酒店咖啡厅                    山水大酒店咖啡厅，位于福州市鼓楼区省府路13号山水大酒店1层。\n",
       "23883  江东天港禧悦酒店浩咖啡厅  江东天港禧悦酒店浩咖啡厅，价位不是那么的高，团购价格88一位，相对来说还是较低的自助餐，咖啡..."
      ],
      "text/html": "<div>\n<style scoped>\n    .dataframe tbody tr th:only-of-type {\n        vertical-align: middle;\n    }\n\n    .dataframe tbody tr th {\n        vertical-align: top;\n    }\n\n    .dataframe thead th {\n        text-align: right;\n    }\n</style>\n<table border=\"1\" class=\"dataframe\">\n  <thead>\n    <tr style=\"text-align: right;\">\n      <th></th>\n      <th>0</th>\n      <th>1</th>\n    </tr>\n  </thead>\n  <tbody>\n    <tr>\n      <th>147</th>\n      <td>影私空间咖啡厅</td>\n      <td>一直听说吉祥广场那开了一家新的影私空间咖啡厅。好多朋友说过来看过，环境不错。</td>\n    </tr>\n    <tr>\n      <th>254</th>\n      <td>知味咖啡厅</td>\n      <td>就冲这一点，服务就可以在两颗星的基础上再加一星。地方在威斯汀酒店的知味咖啡厅，也就是大堂的天井里。</td>\n    </tr>\n    <tr>\n      <th>5270</th>\n      <td>水天堂西餐咖啡厅</td>\n      <td>水天堂西餐咖啡厅在观前街富仁坊65号金鼎中心2楼(蒙自米线旁)。</td>\n    </tr>\n    <tr>\n      <th>10030</th>\n      <td>粤财假日酒店语喋咖啡厅</td>\n      <td>粤财假日酒店语喋咖啡厅就在吉大粤财假期酒店里的4楼，记得上次去是去年的母亲节，和妈妈一起去的。</td>\n    </tr>\n    <tr>\n      <th>10733</th>\n      <td>影私空间咖啡厅</td>\n      <td>自己一直也非常想过来看看，突然发现美团，大众有着一下影私空间咖啡厅的团购。</td>\n    </tr>\n    <tr>\n      <th>17252</th>\n      <td>马迭尔冷饮厅</td>\n      <td>马迭尔冷饮厅：中央大街上最大的亮点，无论冬夏，只要看到排队人群，那就是马迭尔冷饮厅的外卖窗口...</td>\n    </tr>\n    <tr>\n      <th>18352</th>\n      <td>樱花咖啡厅</td>\n      <td>昆明假日酒店二楼的樱花咖啡厅，环境优雅，灯光微暗，很有情调的样子，不过因为是敞开式的环境，靠...</td>\n    </tr>\n    <tr>\n      <th>18761</th>\n      <td>西瓜庄园咖啡厅</td>\n      <td>微信上某公众号中了西瓜庄园咖啡厅的一个单人套餐,前些日子坐地铁过去了.地址是在江东区中山东路...</td>\n    </tr>\n    <tr>\n      <th>21187</th>\n      <td>西瓜庄园咖啡厅</td>\n      <td>“西瓜庄园咖啡厅” 在中山东路边上，这家店集茶舍、花房、咖啡和儿童摄影为一体，饱含了店家夫妻...</td>\n    </tr>\n    <tr>\n      <th>23172</th>\n      <td>山水大酒店咖啡厅</td>\n      <td>山水大酒店咖啡厅，位于福州市鼓楼区省府路13号山水大酒店1层。</td>\n    </tr>\n    <tr>\n      <th>23883</th>\n      <td>江东天港禧悦酒店浩咖啡厅</td>\n      <td>江东天港禧悦酒店浩咖啡厅，价位不是那么的高，团购价格88一位，相对来说还是较低的自助餐，咖啡...</td>\n    </tr>\n  </tbody>\n</table>\n</div>"
     },
     "metadata": {},
     "execution_count": 44
    }
   ],
   "source": [
    "dt = read_train_data(\"COTE_DP\")\n",
    "dt[dt.iloc[:,0].map(lambda x: x[-1]=='厅' and x[-2]!=\"餐\")]"
   ]
  },
  {
   "cell_type": "code",
   "execution_count": 43,
   "metadata": {},
   "outputs": [
    {
     "output_type": "execute_result",
     "data": {
      "text/plain": [
       "             0                                                  1\n",
       "137      黄焖鸡米饭  荣福居黄焖鸡米饭在银川应该是分店最多，知名度最高的一家鸡米饭店了，来自于山东青岛的传统做法，...\n",
       "199     忙弟鸡煲鸡饭           忙弟鸡煲鸡饭，忙得不要不要滴！哈哈，我没有开玩笑啊，真的是很忙很忙的这家鸡公煲。\n",
       "241     辛记排骨米饭  2016.08.02 辛记排骨米饭其实本次青岛之行最初不是来游玩的，所以在到青岛之前并未做过...\n",
       "340       海盗虾饭  我不知道是尚都这家店的问题，还是海盗虾饭这个牌子开久了的原因，先不说面，就说小圆子，因为之前...\n",
       "355      中山大鸽饭                           中山大鸽饭店的占地面积很大，但是包厢要提前预约。\n",
       "...        ...                                                ...\n",
       "24340       开饭  粉色的开饭招牌超级醒目 每次路过都会多看几眼 前几天借闺蜜的光完成了探店 东南亚菜和川菜为主...\n",
       "24479  万众源排骨米饭    就直奔这家万众源排骨米饭，有一段时间没有过来了。生意依然火爆，卫生一样干净。有空调,也有吊扇。\n",
       "24697     鸡翅包饭                        但是个人觉得鸡翅包饭太油。吃多了几口有点腻。总体还好。\n",
       "24806    黄焖鸡米饭           一般济南的黄焖鸡米饭的团购价12块钱左右，沂源的要17块多。不过沂源也没有几家。\n",
       "24846  真功夫原盅蒸饭  真功夫原盅蒸饭(长乐机场店)，位于长乐机场1楼，临近国际到达的区域，一个角落的地方，反正不论...\n",
       "\n",
       "[153 rows x 2 columns]"
      ],
      "text/html": "<div>\n<style scoped>\n    .dataframe tbody tr th:only-of-type {\n        vertical-align: middle;\n    }\n\n    .dataframe tbody tr th {\n        vertical-align: top;\n    }\n\n    .dataframe thead th {\n        text-align: right;\n    }\n</style>\n<table border=\"1\" class=\"dataframe\">\n  <thead>\n    <tr style=\"text-align: right;\">\n      <th></th>\n      <th>0</th>\n      <th>1</th>\n    </tr>\n  </thead>\n  <tbody>\n    <tr>\n      <th>137</th>\n      <td>黄焖鸡米饭</td>\n      <td>荣福居黄焖鸡米饭在银川应该是分店最多，知名度最高的一家鸡米饭店了，来自于山东青岛的传统做法，...</td>\n    </tr>\n    <tr>\n      <th>199</th>\n      <td>忙弟鸡煲鸡饭</td>\n      <td>忙弟鸡煲鸡饭，忙得不要不要滴！哈哈，我没有开玩笑啊，真的是很忙很忙的这家鸡公煲。</td>\n    </tr>\n    <tr>\n      <th>241</th>\n      <td>辛记排骨米饭</td>\n      <td>2016.08.02 辛记排骨米饭其实本次青岛之行最初不是来游玩的，所以在到青岛之前并未做过...</td>\n    </tr>\n    <tr>\n      <th>340</th>\n      <td>海盗虾饭</td>\n      <td>我不知道是尚都这家店的问题，还是海盗虾饭这个牌子开久了的原因，先不说面，就说小圆子，因为之前...</td>\n    </tr>\n    <tr>\n      <th>355</th>\n      <td>中山大鸽饭</td>\n      <td>中山大鸽饭店的占地面积很大，但是包厢要提前预约。</td>\n    </tr>\n    <tr>\n      <th>...</th>\n      <td>...</td>\n      <td>...</td>\n    </tr>\n    <tr>\n      <th>24340</th>\n      <td>开饭</td>\n      <td>粉色的开饭招牌超级醒目 每次路过都会多看几眼 前几天借闺蜜的光完成了探店 东南亚菜和川菜为主...</td>\n    </tr>\n    <tr>\n      <th>24479</th>\n      <td>万众源排骨米饭</td>\n      <td>就直奔这家万众源排骨米饭，有一段时间没有过来了。生意依然火爆，卫生一样干净。有空调,也有吊扇。</td>\n    </tr>\n    <tr>\n      <th>24697</th>\n      <td>鸡翅包饭</td>\n      <td>但是个人觉得鸡翅包饭太油。吃多了几口有点腻。总体还好。</td>\n    </tr>\n    <tr>\n      <th>24806</th>\n      <td>黄焖鸡米饭</td>\n      <td>一般济南的黄焖鸡米饭的团购价12块钱左右，沂源的要17块多。不过沂源也没有几家。</td>\n    </tr>\n    <tr>\n      <th>24846</th>\n      <td>真功夫原盅蒸饭</td>\n      <td>真功夫原盅蒸饭(长乐机场店)，位于长乐机场1楼，临近国际到达的区域，一个角落的地方，反正不论...</td>\n    </tr>\n  </tbody>\n</table>\n<p>153 rows × 2 columns</p>\n</div>"
     },
     "metadata": {},
     "execution_count": 43
    }
   ],
   "source": [
    "dt[dt.iloc[:,0].map(lambda x: x[-1]==\"饭\")]"
   ]
  },
  {
   "cell_type": "code",
   "execution_count": 160,
   "metadata": {},
   "outputs": [
    {
     "output_type": "execute_result",
     "data": {
      "text/plain": [
       "           0                                                  1\n",
       "114      金人台               见一条小船，铁人要求船家带他渡河，船家道破了铁人的本相并把它抬回金人台。\n",
       "232      展佛台  9层楼高的展佛台，庄严的气势与寺院庄重的建筑和为一体，每年藏历五月十四至十六日，在这里展示过...\n",
       "355       玉台                三清山玉台东临空谷，田园城廓，一览无余；北眺玉京，奇峰环峙，峰峦竞立。\n",
       "646      楚天台               楚天台上面的两只凤凰，这个太好看了，所以必须拍下来，··········\n",
       "734    赤湾古炮台   赤湾古炮台是花岗岩修砌而成的，这个古迹遗址保留至今，在炮台的两旁依旧清晰的可以看到历史遗留...\n",
       "...      ...                                                ...\n",
       "40426  四方街戏台  在四方街戏台周边有几家不错的餐馆什么杨记私房菜，吉祥红餐馆，二楼餐厅等等，在这里首推吉祥红餐...\n",
       "40460    菊花台                 乌鲁木齐周边的景区，和南山、菊花台等一样的山地特色。去哪里都差不多。\n",
       "40470    文殊台     就是锦绣谷一路走，就可以到达文书台，对这里的历史了解不多。在文殊台上可以看到山下的一座寺庙。\n",
       "40480    天问台              天问台位于大峡谷之中，这里斧削刀劈的山峰气势磅礴，四周峡谷合拢，云气雾岚。\n",
       "40768    楚望台   武昌首义就是从楚望台军械库开始的，现在为了纪念辛亥革命100周年重新修了城墙，立了楚望台的标志。\n",
       "\n",
       "[480 rows x 2 columns]"
      ],
      "text/html": "<div>\n<style scoped>\n    .dataframe tbody tr th:only-of-type {\n        vertical-align: middle;\n    }\n\n    .dataframe tbody tr th {\n        vertical-align: top;\n    }\n\n    .dataframe thead th {\n        text-align: right;\n    }\n</style>\n<table border=\"1\" class=\"dataframe\">\n  <thead>\n    <tr style=\"text-align: right;\">\n      <th></th>\n      <th>0</th>\n      <th>1</th>\n    </tr>\n  </thead>\n  <tbody>\n    <tr>\n      <th>114</th>\n      <td>金人台</td>\n      <td>见一条小船，铁人要求船家带他渡河，船家道破了铁人的本相并把它抬回金人台。</td>\n    </tr>\n    <tr>\n      <th>232</th>\n      <td>展佛台</td>\n      <td>9层楼高的展佛台，庄严的气势与寺院庄重的建筑和为一体，每年藏历五月十四至十六日，在这里展示过...</td>\n    </tr>\n    <tr>\n      <th>355</th>\n      <td>玉台</td>\n      <td>三清山玉台东临空谷，田园城廓，一览无余；北眺玉京，奇峰环峙，峰峦竞立。</td>\n    </tr>\n    <tr>\n      <th>646</th>\n      <td>楚天台</td>\n      <td>楚天台上面的两只凤凰，这个太好看了，所以必须拍下来，··········</td>\n    </tr>\n    <tr>\n      <th>734</th>\n      <td>赤湾古炮台</td>\n      <td>赤湾古炮台是花岗岩修砌而成的，这个古迹遗址保留至今，在炮台的两旁依旧清晰的可以看到历史遗留...</td>\n    </tr>\n    <tr>\n      <th>...</th>\n      <td>...</td>\n      <td>...</td>\n    </tr>\n    <tr>\n      <th>40426</th>\n      <td>四方街戏台</td>\n      <td>在四方街戏台周边有几家不错的餐馆什么杨记私房菜，吉祥红餐馆，二楼餐厅等等，在这里首推吉祥红餐...</td>\n    </tr>\n    <tr>\n      <th>40460</th>\n      <td>菊花台</td>\n      <td>乌鲁木齐周边的景区，和南山、菊花台等一样的山地特色。去哪里都差不多。</td>\n    </tr>\n    <tr>\n      <th>40470</th>\n      <td>文殊台</td>\n      <td>就是锦绣谷一路走，就可以到达文书台，对这里的历史了解不多。在文殊台上可以看到山下的一座寺庙。</td>\n    </tr>\n    <tr>\n      <th>40480</th>\n      <td>天问台</td>\n      <td>天问台位于大峡谷之中，这里斧削刀劈的山峰气势磅礴，四周峡谷合拢，云气雾岚。</td>\n    </tr>\n    <tr>\n      <th>40768</th>\n      <td>楚望台</td>\n      <td>武昌首义就是从楚望台军械库开始的，现在为了纪念辛亥革命100周年重新修了城墙，立了楚望台的标志。</td>\n    </tr>\n  </tbody>\n</table>\n<p>480 rows × 2 columns</p>\n</div>"
     },
     "metadata": {},
     "execution_count": 160
    }
   ],
   "source": [
    "dt[dt.iloc[:,0].map(lambda x: x[-1]=='台')]"
   ]
  },
  {
   "cell_type": "code",
   "execution_count": 45,
   "metadata": {},
   "outputs": [
    {
     "output_type": "execute_result",
     "data": {
      "text/plain": [
       "3956"
      ]
     },
     "metadata": {},
     "execution_count": 45
    }
   ],
   "source": [
    "dtt = dt.iloc[:,1].map(lambda x:len(x))>128\n",
    "dtt.sum()"
   ]
  },
  {
   "cell_type": "code",
   "execution_count": 70,
   "metadata": {},
   "outputs": [],
   "source": [
    "dsname = \"SE-ABSA16_PHNS\"\n",
    "a = read_train_data(dsname)\n",
    "a2 = read_test_data(dsname)"
   ]
  },
  {
   "cell_type": "code",
   "execution_count": 71,
   "metadata": {},
   "outputs": [
    {
     "output_type": "execute_result",
     "data": {
      "text/plain": [
       "1    761\n",
       "0    575\n",
       "Name: label, dtype: int64"
      ]
     },
     "metadata": {},
     "execution_count": 71
    }
   ],
   "source": [
    "a['label'].value_counts()"
   ]
  },
  {
   "cell_type": "code",
   "execution_count": 72,
   "metadata": {},
   "outputs": [
    {
     "output_type": "execute_result",
     "data": {
      "text/plain": [
       "['os',\n",
       " 'general',\n",
       " 'ports',\n",
       " 'quality',\n",
       " 'price',\n",
       " 'hardware',\n",
       " 'warranty',\n",
       " 'multimedia_devices',\n",
       " 'keyboard',\n",
       " 'hard_disc',\n",
       " 'software',\n",
       " 'cpu',\n",
       " 'support',\n",
       " 'design_features',\n",
       " 'phone',\n",
       " 'power_supply',\n",
       " 'memory',\n",
       " 'operation_performance',\n",
       " 'display',\n",
       " 'connectivity',\n",
       " 'usability',\n",
       " 'battery',\n",
       " 'miscellaneous']"
      ]
     },
     "metadata": {},
     "execution_count": 72
    }
   ],
   "source": [
    "b = list(set(a['text_a'].to_list()))\n",
    "c = [bb.split(\"#\") for bb in b]\n",
    "d = []\n",
    "#d = [d.extend(cc) for cc in c]\n",
    "for cc in c:\n",
    "    d.extend(cc)\n",
    "e = list(set(d))\n",
    "e"
   ]
  },
  {
   "cell_type": "code",
   "execution_count": 73,
   "metadata": {},
   "outputs": [
    {
     "output_type": "execute_result",
     "data": {
      "text/plain": [
       "'CAME的中英互译'"
      ]
     },
     "metadata": {},
     "execution_count": 73
    }
   ],
   "source": [
    "\"CAME的中英互译\"\n",
    "# e = ['price',\n",
    "#  'quality',\n",
    "#  'photo',\n",
    "#  'cpu',\n",
    "#  'miscellaneous',\n",
    "#  'software',\n",
    "#  'lens',\n",
    "#  'connectivity',\n",
    "#  'keyboard',\n",
    "#  'display',\n",
    "#  'os',\n",
    "#  'general',\n",
    "#  'operation_performance',\n",
    "#  'hardware',\n",
    "#  'focus',\n",
    "#  'battery',\n",
    "#  'power_supply',\n",
    "#  'camera',\n",
    "#  'ports',\n",
    "#  'memory',\n",
    "#  'usability',\n",
    "#  'portability',\n",
    "#  'design_features',\n",
    "#  'multimedia_devices']\n",
    "# f=['价格','质量','照片','处理器','多方面的','软件','镜头','手感顺畅性','按键','显示画质','操作系统','概括','操作性能','硬件','对焦','电池','电源供应','相机','接口','内存','易用性','轻便可携带性','设计特点','多媒体设备']\n",
    "# len(e),len(f)"
   ]
  },
  {
   "cell_type": "code",
   "execution_count": 74,
   "metadata": {},
   "outputs": [
    {
     "output_type": "execute_result",
     "data": {
      "text/plain": [
       "(23, 23)"
      ]
     },
     "metadata": {},
     "execution_count": 74
    }
   ],
   "source": [
    " \"PHNS的中英互译\"\n",
    "f = [\"内存\",\"硬件\",\"价格\",\"质量\",\"硬盘\",\"一般的\",\"多媒体设备\",\"支持\",\"手机\",\"电源供应\",\"显示\",\"多方面的\",\"手感顺畅性\",\"操作系统\",\"易用性\",\"电池\",\"设计特点\",\"保修\",\"操作性能\",\"键盘\",\"处理器\",\"端口\",\"软件\"]\n",
    "e = ['memory','hardware','price','quality','hard_disc','general','multimedia_devices','support','phone','power_supply','display','miscellaneous','connectivity','os','usability','battery','design_features','warranty','operation_performance','keyboard','cpu','ports','software']\n",
    "len(e),len(f)"
   ]
  },
  {
   "cell_type": "code",
   "execution_count": 75,
   "metadata": {},
   "outputs": [
    {
     "output_type": "execute_result",
     "data": {
      "text/plain": [
       "{'memory': '内存',\n",
       " 'hardware': '硬件',\n",
       " 'price': '价格',\n",
       " 'quality': '质量',\n",
       " 'hard_disc': '硬盘',\n",
       " 'general': '一般的',\n",
       " 'multimedia_devices': '多媒体设备',\n",
       " 'support': '支持',\n",
       " 'phone': '手机',\n",
       " 'power_supply': '电源供应',\n",
       " 'display': '显示',\n",
       " 'miscellaneous': '多方面的',\n",
       " 'connectivity': '手感顺畅性',\n",
       " 'os': '操作系统',\n",
       " 'usability': '易用性',\n",
       " 'battery': '电池',\n",
       " 'design_features': '设计特点',\n",
       " 'warranty': '保修',\n",
       " 'operation_performance': '操作性能',\n",
       " 'keyboard': '键盘',\n",
       " 'cpu': '处理器',\n",
       " 'ports': '端口',\n",
       " 'software': '软件'}"
      ]
     },
     "metadata": {},
     "execution_count": 75
    }
   ],
   "source": [
    "maps = zip(e,f)\n",
    "maps= dict(maps)\n",
    "maps"
   ]
  },
  {
   "cell_type": "code",
   "execution_count": 76,
   "metadata": {},
   "outputs": [],
   "source": [
    "maps[\"portability\"] = \"轻便可携带性\"\n",
    "maps[\"support\"]=\"支持\""
   ]
  },
  {
   "cell_type": "code",
   "execution_count": 77,
   "metadata": {},
   "outputs": [
    {
     "output_type": "execute_result",
     "data": {
      "text/plain": [
       "      label    text_a                                             text_b\n",
       "0         1   手机#设计特点  今天有幸拿到了港版白色iPhone 5真机，试玩了一下，说说感受吧：1. 真机尺寸宽度与4/...\n",
       "1         1     显示#质量  今天有幸拿到了港版白色iPhone 5真机，试玩了一下，说说感受吧：1. 真机尺寸宽度与4/...\n",
       "2         1  端口#手感顺畅性  今天有幸拿到了港版白色iPhone 5真机，试玩了一下，说说感受吧：1. 真机尺寸宽度与4/...\n",
       "3         1  处理器#操作性能  今天有幸拿到了港版白色iPhone 5真机，试玩了一下，说说感受吧：1. 真机尺寸宽度与4/...\n",
       "4         1     显示#质量  1，外观上，iPhone5不是用来ZB的，所以别人看不看得出来，并不是我关心的问题。4寸的屏...\n",
       "...     ...       ...                                                ...\n",
       "1331      0     支持#质量  华为W1体验提醒购买手机的朋友，手机主要存在以下问题：向上滑动时，字迹模糊，是比较厉害的那种...\n",
       "1332      0  多媒体设备#质量  华为W1体验提醒购买手机的朋友，手机主要存在以下问题：向上滑动时，字迹模糊，是比较厉害的那种...\n",
       "1333      0   手机#多方面的  华为W1体验提醒购买手机的朋友，手机主要存在以下问题：向上滑动时，字迹模糊，是比较厉害的那种...\n",
       "1334      0  多媒体设备#质量  华为W1体验提醒购买手机的朋友，手机主要存在以下问题：向上滑动时，字迹模糊，是比较厉害的那种...\n",
       "1335      0  多媒体设备#质量  华为W1体验提醒购买手机的朋友，手机主要存在以下问题：向上滑动时，字迹模糊，是比较厉害的那种...\n",
       "\n",
       "[1336 rows x 3 columns]"
      ],
      "text/html": "<div>\n<style scoped>\n    .dataframe tbody tr th:only-of-type {\n        vertical-align: middle;\n    }\n\n    .dataframe tbody tr th {\n        vertical-align: top;\n    }\n\n    .dataframe thead th {\n        text-align: right;\n    }\n</style>\n<table border=\"1\" class=\"dataframe\">\n  <thead>\n    <tr style=\"text-align: right;\">\n      <th></th>\n      <th>label</th>\n      <th>text_a</th>\n      <th>text_b</th>\n    </tr>\n  </thead>\n  <tbody>\n    <tr>\n      <th>0</th>\n      <td>1</td>\n      <td>手机#设计特点</td>\n      <td>今天有幸拿到了港版白色iPhone 5真机，试玩了一下，说说感受吧：1. 真机尺寸宽度与4/...</td>\n    </tr>\n    <tr>\n      <th>1</th>\n      <td>1</td>\n      <td>显示#质量</td>\n      <td>今天有幸拿到了港版白色iPhone 5真机，试玩了一下，说说感受吧：1. 真机尺寸宽度与4/...</td>\n    </tr>\n    <tr>\n      <th>2</th>\n      <td>1</td>\n      <td>端口#手感顺畅性</td>\n      <td>今天有幸拿到了港版白色iPhone 5真机，试玩了一下，说说感受吧：1. 真机尺寸宽度与4/...</td>\n    </tr>\n    <tr>\n      <th>3</th>\n      <td>1</td>\n      <td>处理器#操作性能</td>\n      <td>今天有幸拿到了港版白色iPhone 5真机，试玩了一下，说说感受吧：1. 真机尺寸宽度与4/...</td>\n    </tr>\n    <tr>\n      <th>4</th>\n      <td>1</td>\n      <td>显示#质量</td>\n      <td>1，外观上，iPhone5不是用来ZB的，所以别人看不看得出来，并不是我关心的问题。4寸的屏...</td>\n    </tr>\n    <tr>\n      <th>...</th>\n      <td>...</td>\n      <td>...</td>\n      <td>...</td>\n    </tr>\n    <tr>\n      <th>1331</th>\n      <td>0</td>\n      <td>支持#质量</td>\n      <td>华为W1体验提醒购买手机的朋友，手机主要存在以下问题：向上滑动时，字迹模糊，是比较厉害的那种...</td>\n    </tr>\n    <tr>\n      <th>1332</th>\n      <td>0</td>\n      <td>多媒体设备#质量</td>\n      <td>华为W1体验提醒购买手机的朋友，手机主要存在以下问题：向上滑动时，字迹模糊，是比较厉害的那种...</td>\n    </tr>\n    <tr>\n      <th>1333</th>\n      <td>0</td>\n      <td>手机#多方面的</td>\n      <td>华为W1体验提醒购买手机的朋友，手机主要存在以下问题：向上滑动时，字迹模糊，是比较厉害的那种...</td>\n    </tr>\n    <tr>\n      <th>1334</th>\n      <td>0</td>\n      <td>多媒体设备#质量</td>\n      <td>华为W1体验提醒购买手机的朋友，手机主要存在以下问题：向上滑动时，字迹模糊，是比较厉害的那种...</td>\n    </tr>\n    <tr>\n      <th>1335</th>\n      <td>0</td>\n      <td>多媒体设备#质量</td>\n      <td>华为W1体验提醒购买手机的朋友，手机主要存在以下问题：向上滑动时，字迹模糊，是比较厉害的那种...</td>\n    </tr>\n  </tbody>\n</table>\n<p>1336 rows × 3 columns</p>\n</div>"
     },
     "metadata": {},
     "execution_count": 77
    }
   ],
   "source": [
    "#aa = a.copy(deep=True)\n",
    "def trans(s):\n",
    "    return \"#\".join([maps[t] for t in s.split(\"#\")])\n",
    "a['text_a'] = a['text_a'].map(trans)\n",
    "a"
   ]
  },
  {
   "cell_type": "code",
   "execution_count": 78,
   "metadata": {},
   "outputs": [
    {
     "output_type": "execute_result",
     "data": {
      "text/plain": [
       "     qid   text_a                                             text_b\n",
       "0      0   软件#易用性  刚刚入手8600，体会。刚刚从淘宝购买，1635元（包邮）。1、全新，应该是欧版机，配件也是...\n",
       "1      1    显示#质量  mk16i用后的体验感觉不错，就是有点厚，屏幕分辨率高，运行流畅，就是不知道能不能刷4.0的系统啊\n",
       "2      2  手机#操作性能  mk16i用后的体验感觉不错，就是有点厚，屏幕分辨率高，运行流畅，就是不知道能不能刷4.0的系统啊\n",
       "3      3    显示#质量  k2初体验刚刚入手一款联想k2外观大气4.3寸屏幕显示效果中上吧刚刚入手一款联想k2外观大气...\n",
       "4      4    显示#质量  k2初体验刚刚入手一款联想k2外观大气4.3寸屏幕显示效果中上吧刚刚入手一款联想k2外观大气...\n",
       "..   ...      ...                                                ...\n",
       "524  524    显示#质量  小米手机刚到手时操作起来有些生疏，摸索了几天基本熟悉习惯了，短信电话等基本功能做得很人性化，...\n",
       "525  525    显示#质量  小米手机刚到手时操作起来有些生疏，摸索了几天基本熟悉习惯了，短信电话等基本功能做得很人性化，...\n",
       "526  526  操作系统#质量  小米手机刚到手时操作起来有些生疏，摸索了几天基本熟悉习惯了，短信电话等基本功能做得很人性化，...\n",
       "527  527    显示#质量  小米手机刚到手时操作起来有些生疏，摸索了几天基本熟悉习惯了，短信电话等基本功能做得很人性化，...\n",
       "528  528    显示#质量  小米手机刚到手时操作起来有些生疏，摸索了几天基本熟悉习惯了，短信电话等基本功能做得很人性化，...\n",
       "\n",
       "[529 rows x 3 columns]"
      ],
      "text/html": "<div>\n<style scoped>\n    .dataframe tbody tr th:only-of-type {\n        vertical-align: middle;\n    }\n\n    .dataframe tbody tr th {\n        vertical-align: top;\n    }\n\n    .dataframe thead th {\n        text-align: right;\n    }\n</style>\n<table border=\"1\" class=\"dataframe\">\n  <thead>\n    <tr style=\"text-align: right;\">\n      <th></th>\n      <th>qid</th>\n      <th>text_a</th>\n      <th>text_b</th>\n    </tr>\n  </thead>\n  <tbody>\n    <tr>\n      <th>0</th>\n      <td>0</td>\n      <td>软件#易用性</td>\n      <td>刚刚入手8600，体会。刚刚从淘宝购买，1635元（包邮）。1、全新，应该是欧版机，配件也是...</td>\n    </tr>\n    <tr>\n      <th>1</th>\n      <td>1</td>\n      <td>显示#质量</td>\n      <td>mk16i用后的体验感觉不错，就是有点厚，屏幕分辨率高，运行流畅，就是不知道能不能刷4.0的系统啊</td>\n    </tr>\n    <tr>\n      <th>2</th>\n      <td>2</td>\n      <td>手机#操作性能</td>\n      <td>mk16i用后的体验感觉不错，就是有点厚，屏幕分辨率高，运行流畅，就是不知道能不能刷4.0的系统啊</td>\n    </tr>\n    <tr>\n      <th>3</th>\n      <td>3</td>\n      <td>显示#质量</td>\n      <td>k2初体验刚刚入手一款联想k2外观大气4.3寸屏幕显示效果中上吧刚刚入手一款联想k2外观大气...</td>\n    </tr>\n    <tr>\n      <th>4</th>\n      <td>4</td>\n      <td>显示#质量</td>\n      <td>k2初体验刚刚入手一款联想k2外观大气4.3寸屏幕显示效果中上吧刚刚入手一款联想k2外观大气...</td>\n    </tr>\n    <tr>\n      <th>...</th>\n      <td>...</td>\n      <td>...</td>\n      <td>...</td>\n    </tr>\n    <tr>\n      <th>524</th>\n      <td>524</td>\n      <td>显示#质量</td>\n      <td>小米手机刚到手时操作起来有些生疏，摸索了几天基本熟悉习惯了，短信电话等基本功能做得很人性化，...</td>\n    </tr>\n    <tr>\n      <th>525</th>\n      <td>525</td>\n      <td>显示#质量</td>\n      <td>小米手机刚到手时操作起来有些生疏，摸索了几天基本熟悉习惯了，短信电话等基本功能做得很人性化，...</td>\n    </tr>\n    <tr>\n      <th>526</th>\n      <td>526</td>\n      <td>操作系统#质量</td>\n      <td>小米手机刚到手时操作起来有些生疏，摸索了几天基本熟悉习惯了，短信电话等基本功能做得很人性化，...</td>\n    </tr>\n    <tr>\n      <th>527</th>\n      <td>527</td>\n      <td>显示#质量</td>\n      <td>小米手机刚到手时操作起来有些生疏，摸索了几天基本熟悉习惯了，短信电话等基本功能做得很人性化，...</td>\n    </tr>\n    <tr>\n      <th>528</th>\n      <td>528</td>\n      <td>显示#质量</td>\n      <td>小米手机刚到手时操作起来有些生疏，摸索了几天基本熟悉习惯了，短信电话等基本功能做得很人性化，...</td>\n    </tr>\n  </tbody>\n</table>\n<p>529 rows × 3 columns</p>\n</div>"
     },
     "metadata": {},
     "execution_count": 78
    }
   ],
   "source": [
    "# a2['text_a'] = a2['text_a'].map(trans)\n",
    "# a2\n",
    "a2['text_a'] = a2['text_a'].map(trans)\n",
    "a2"
   ]
  },
  {
   "cell_type": "code",
   "execution_count": 80,
   "metadata": {},
   "outputs": [],
   "source": [
    "def truncate(s, ratio=0.6,max_len=512-3):\n",
    "    head_len = int(max_len*ratio)\n",
    "    tail_len = max_len - head_len\n",
    "    return s[:head_len] + s[-tail_len:]"
   ]
  },
  {
   "cell_type": "code",
   "execution_count": 91,
   "metadata": {},
   "outputs": [],
   "source": [
    "aa.to_csv(\"data/\"+dsname+\"/train.tsv\",sep=\"\\t\",index=False)\n",
    "a2.to_csv(\"data/\"+dsname+\"/test.tsv\",sep=\"\\t\",index=False)"
   ]
  },
  {
   "cell_type": "code",
   "execution_count": 77,
   "metadata": {},
   "outputs": [
    {
     "output_type": "execute_result",
     "data": {
      "text/plain": [
       "0       400\n",
       "1       400\n",
       "2       400\n",
       "3       400\n",
       "4       603\n",
       "       ... \n",
       "1331    364\n",
       "1332    364\n",
       "1333    364\n",
       "1334    364\n",
       "1335    364\n",
       "Name: len, Length: 1336, dtype: int64"
      ]
     },
     "metadata": {},
     "execution_count": 77
    }
   ],
   "source": [
    "aa[\"len\"] = aa[\"text_b\"].map(lambda x:len(x))\n",
    "aa[\"len\"]"
   ]
  },
  {
   "cell_type": "code",
   "execution_count": 85,
   "metadata": {},
   "outputs": [
    {
     "output_type": "execute_result",
     "data": {
      "text/plain": [
       "1890    43\n",
       "1136    26\n",
       "765     23\n",
       "799     23\n",
       "663     21\n",
       "        ..\n",
       "155      2\n",
       "225      2\n",
       "142      1\n",
       "185      1\n",
       "287      1\n",
       "Name: len, Length: 131, dtype: int64"
      ]
     },
     "metadata": {},
     "execution_count": 85
    }
   ],
   "source": [
    "aa[\"len\"].mean()\n",
    "aa[\"len\"].value_counts()#[:10]#to_list()"
   ]
  },
  {
   "cell_type": "code",
   "execution_count": null,
   "metadata": {},
   "outputs": [],
   "source": []
  }
 ]
}